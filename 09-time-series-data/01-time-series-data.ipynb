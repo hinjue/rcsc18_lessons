{
 "cells": [
  {
   "cell_type": "markdown",
   "metadata": {},
   "source": [
    "# Handling Data over time\n",
    "\n",
    "There's a widespread trend in solar physics at the moment for correlation over actual science, so being able to handle data over time spans is a skill we all need to have. Python has ample support for this so lets have a look at what we can use."
   ]
  },
  {
   "cell_type": "markdown",
   "metadata": {},
   "source": [
    "\n",
    "<section class=\"objectives panel panel-warning\">\n",
    "<div class=\"panel-heading\">\n",
    "<h2><span class=\"fa fa-certificate\"></span> Learning Objectives</h2>\n",
    "</div>\n",
    "\n",
    "\n",
    "<div class=\"panel-body\">\n",
    "\n",
    "<ul>\n",
    "<li>Understand and use Sunpy Time Series data.</li>\n",
    "<li>Create a pandas dataframe.</li>\n",
    "<li>Utilise the datetime package.</li>\n",
    "<li>Use the pandas dataframe to plot the data within it.</li>\n",
    "</ul>\n",
    "\n",
    "</div>\n",
    "\n",
    "</section>\n"
   ]
  },
  {
   "cell_type": "markdown",
   "metadata": {},
   "source": [
    "## Sunpy Time Series\n",
    "\n",
    "SunPy provides a timeseries object to handle this type of time series data. The module has a number of instruments associated with it, including:\n",
    "\n",
    "* GOES XRS TimeSeries\n",
    "* SDO EVE TimeSeries for level 0CS data\n",
    "* Proba-2 LYRA TimeSeries\n",
    "* NOAA Solar Cycle monthly indices.\n",
    "* Nobeyama Radioheliograph Correlation TimeSeries.\n",
    "* RHESSI X-ray Summary TimeSeries.\n",
    "\n",
    "We're going to examine the data created by a solar flare on June 7th 2011.\n",
    "\n",
    "Lets begin with the import statements:"
   ]
  },
  {
   "cell_type": "code",
   "execution_count": 151,
   "metadata": {},
   "outputs": [],
   "source": [
    "import numpy as np\n",
    "import sunpy \n",
    "import sunpy.data.sample\n",
    "import sunpy.timeseries as ts\n",
    "import matplotlib.pyplot as plt\n",
    "%matplotlib inline"
   ]
  },
  {
   "cell_type": "markdown",
   "metadata": {},
   "source": [
    "Now lets look at some test series data, in this case we can utilitse the sunpy sample data. Do this with `import sunpy.data.sample`"
   ]
  },
  {
   "cell_type": "code",
   "execution_count": 152,
   "metadata": {},
   "outputs": [],
   "source": [
    "goes_ts = ts.TimeSeries(sunpy.data.sample.GOES_XRS_TIMESERIES, source = 'XRS')"
   ]
  },
  {
   "cell_type": "markdown",
   "metadata": {},
   "source": [
    "Now goes data is a sunpy time seris object so we can inspect the object"
   ]
  },
  {
   "cell_type": "code",
   "execution_count": 153,
   "metadata": {},
   "outputs": [
    {
     "data": {
      "text/plain": [
       "|-------------------------------------------------------------------------------------------------|\n",
       "|TimeRange                  | Columns         | Meta                                              |\n",
       "|-------------------------------------------------------------------------------------------------|\n",
       "|2011-06-06 23:59:59.961999 | xrsa            | simple: True                                      |\n",
       "|            to             | xrsb            | bitpix: 8                                         |\n",
       "|2011-06-07 23:59:57.631999 |                 | naxis: 0                                          |\n",
       "|                           |                 | extend: True                                      |\n",
       "|                           |                 | date: 26/06/2012                                  |\n",
       "|                           |                 | numext: 3                                         |\n",
       "|                           |                 | telescop: GOES 15                                 |\n",
       "|                           |                 | instrume: X-ray Detector                          |\n",
       "|                           |                 | object: Sun                                       |\n",
       "|                           |                 | origin: SDAC/GSFC                                 |\n",
       "|                           |                 | ...                                               |\n",
       "|-------------------------------------------------------------------------------------------------|"
      ]
     },
     "execution_count": 153,
     "metadata": {},
     "output_type": "execute_result"
    }
   ],
   "source": [
    "goes_ts.meta"
   ]
  },
  {
   "cell_type": "markdown",
   "metadata": {},
   "source": [
    "NB: not all sources provide meta data so this may be empty.\n",
    "\n",
    "The actual data is accessible tthrough the attributes of the timeseries object. Part of the advantage of using these inbuilt functions we can get a quicklook at our data using short commands:"
   ]
  },
  {
   "cell_type": "code",
   "execution_count": 154,
   "metadata": {},
   "outputs": [
    {
     "name": "stderr",
     "output_type": "stream",
     "text": [
      "/Users/jurgen/anaconda3/envs/stfc-summer-school/lib/python3.6/site-packages/matplotlib/figure.py:457: UserWarning: matplotlib is currently using a non-GUI backend, so cannot show the figure\n",
      "  \"matplotlib is currently using a non-GUI backend, \"\n"
     ]
    },
    {
     "data": {
      "image/png": "[encoded data removed]",
      "text/plain": [
       "<Figure size 432x288 with 2 Axes>"
      ]
     },
     "metadata": {},
     "output_type": "display_data"
    }
   ],
   "source": [
    "goes_ts.peek()"
   ]
  },
  {
   "cell_type": "markdown",
   "metadata": {},
   "source": [
    "### Accessing and using the data\n",
    "\n",
    "More custom plots can be made easily by accessing the data in the timeseries functionality. Both the time information and the data are contained within the timeseries.data code, which is a pandas dataframe. We can see what data is contained in the dataframe by finding which columns it contains and also asking what's in the meta data: "
   ]
  },
  {
   "cell_type": "code",
   "execution_count": 155,
   "metadata": {},
   "outputs": [
    {
     "data": {
      "text/plain": [
       "Index(['xrsa', 'xrsb'], dtype='object')"
      ]
     },
     "execution_count": 155,
     "metadata": {},
     "output_type": "execute_result"
    }
   ],
   "source": [
    "goes_data = goes_ts.data\n",
    "goes_data.columns"
   ]
  },
  {
   "cell_type": "markdown",
   "metadata": {},
   "source": [
    "\n",
    "<section class=\"callout panel panel-warning\">\n",
    "<div class=\"panel-heading\">\n",
    "<h2><span class=\"fa fa-thumb-tack\"></span> On Dictionaries</h2>\n",
    "</div>\n",
    "\n",
    "\n",
    "<div class=\"panel-body\">\n",
    "\n",
    "<p>We can create keyword-data pairs to form a dictionary (shock horror) of values. In this case we have defined some strings and number to represent temperatures across europe</p>\n",
    "<div class=\"codehilite\"><pre><span></span>temps = {&#39;Brussles&#39;: 9, &#39;London&#39;: 3, &#39;Barcelona&#39;: 13, &#39;Rome&#39;: 16}\n",
    "temps[&#39;Rome&#39;]\n",
    "16\n",
    "</pre></div>\n",
    "\n",
    "\n",
    "<p>We can also find out what keywords are associated with a given dictionary, In this case:</p>\n",
    "<div class=\"codehilite\"><pre><span></span>temps.keys()\n",
    "dict_keys([&#39;London&#39;, &#39;Barcelona&#39;, &#39;Rome&#39;, &#39;Brussles&#39;])\n",
    "</pre></div>\n",
    "\n",
    "\n",
    "<p>Dictionaries will crop up more and more often, typically as a part of differnt file structure such as <code>ynl</code> and <code>json</code>.</p>\n",
    "\n",
    "</div>\n",
    "\n",
    "</section>\n"
   ]
  },
  {
   "cell_type": "code",
   "execution_count": 156,
   "metadata": {},
   "outputs": [
    {
     "data": {
      "text/plain": [
       "dict_keys(['Brussles', 'London', 'Barcelona', 'Rome'])"
      ]
     },
     "execution_count": 156,
     "metadata": {},
     "output_type": "execute_result"
    }
   ],
   "source": [
    "temps = {'Brussles': 9, 'London': 3, 'Barcelona': 13, 'Rome': 16}\n",
    "temps['Rome']\n",
    "temps.keys()"
   ]
  },
  {
   "cell_type": "markdown",
   "metadata": {},
   "source": [
    "## Pandas\n",
    "\n",
    "In its own words Pandas is a Python package providing fast, flexible, and expressive data structures designed to make working with “relational” or “labeled” data both easy and intuitive. Pandas has two forms of structures, 1D series and 2D dataframe. It also has its own functions associated with it.\n",
    "\n",
    "It is also amazing.\n",
    "\n",
    "Timeseries uses these in built Pandas functions, so we can find out things like the maximum of curves:\n"
   ]
  },
  {
   "cell_type": "code",
   "execution_count": 157,
   "metadata": {},
   "outputs": [
    {
     "name": "stdout",
     "output_type": "stream",
     "text": [
      "GOES long index: 2011-06-07 06:41:24.118999\n",
      "GOES short index: 2011-06-07 06:39:00.761999\n"
     ]
    }
   ],
   "source": [
    "max_t_goes_long = goes_data['xrsb'].idxmax()\n",
    "max_t_goes_short = goes_data.xrsa.idxmax()\n",
    "\n",
    "print('GOES long index: {}'.format(max_t_goes_long))\n",
    "print('GOES short index: {}'.format(max_t_goes_short))"
   ]
  },
  {
   "cell_type": "code",
   "execution_count": null,
   "metadata": {},
   "outputs": [],
   "source": []
  },
  {
   "cell_type": "markdown",
   "metadata": {},
   "source": [
    "So lets plot them on the graph"
   ]
  },
  {
   "cell_type": "code",
   "execution_count": 158,
   "metadata": {},
   "outputs": [
    {
     "data": {
      "text/plain": [
       "<matplotlib.lines.Line2D at 0x1c23b620f0>"
      ]
     },
     "execution_count": 158,
     "metadata": {},
     "output_type": "execute_result"
    },
    {
     "data": {
      "image/png": "[encoded data removed]",
      "text/plain": [
       "<Figure size 1152x720 with 1 Axes>"
      ]
     },
     "metadata": {},
     "output_type": "display_data"
    }
   ],
   "source": [
    "fig, ax = plt.subplots(figsize=(16,10))\n",
    "goes_data.xrsa.plot(kind='line')\n",
    "goes_data.xrsb.plot(kind='line')\n",
    "plt.legend()\n",
    "plt.ylabel('Flux (Wm^-2)')\n",
    "\n",
    "plt.axvline(max_t_goes_long, color='green', linestyle='dotted', linewidth = 2)\n",
    "plt.axvline(max_t_goes_short, color='black', linestyle='dashed', linewidth = 1)"
   ]
  },
  {
   "cell_type": "markdown",
   "metadata": {},
   "source": [
    "## Reading in Tablulated data\n",
    "\n",
    "Now we have seen a little of what Pandas can do, lets read in some of our own data. In this case we are going to use data from Bennett et al. 2015, ApJ, a truly ground breaking work. Now the data we are reading in here is a structured Array.\n"
   ]
  },
  {
   "cell_type": "code",
   "execution_count": 159,
   "metadata": {},
   "outputs": [
    {
     "name": "stderr",
     "output_type": "stream",
     "text": [
      "/Users/jurgen/anaconda3/envs/stfc-summer-school/lib/python3.6/site-packages/ipykernel_launcher.py:1: VisibleDeprecationWarning: Reading unicode strings without specifying the encoding argument is deprecated. Set the encoding, use None for the system default.\n",
      "  \"\"\"Entry point for launching an IPython kernel.\n"
     ]
    }
   ],
   "source": [
    "data = np.genfromtxt('data/macrospicules.csv', skip_header=1, dtype=None, delimiter=',')"
   ]
  },
  {
   "cell_type": "markdown",
   "metadata": {},
   "source": [
    "Now, the above line imports information on some solar features over a sample time period. Specifically we have, maximum length, lifetime and time at which they occured. Now if we type `data[0]` what will happen?"
   ]
  },
  {
   "cell_type": "code",
   "execution_count": 160,
   "metadata": {},
   "outputs": [
    {
     "data": {
      "text/plain": [
       "(27.02261709, 13.6, b'2010-06-01T13:00:14.120000')"
      ]
     },
     "execution_count": 160,
     "metadata": {},
     "output_type": "execute_result"
    }
   ],
   "source": [
    "data[0]"
   ]
  },
  {
   "cell_type": "markdown",
   "metadata": {},
   "source": [
    "This is the first row of the array, containing the first element of our three properties. This particular example is a stuctured array, so the columns and rows can have properties and assign properties to the header. We can ask what the title of these columns is by using a `dtype` command:"
   ]
  },
  {
   "cell_type": "code",
   "execution_count": 161,
   "metadata": {},
   "outputs": [
    {
     "data": {
      "text/plain": [
       "('f0', 'f1', 'f2')"
      ]
     },
     "execution_count": 161,
     "metadata": {},
     "output_type": "execute_result"
    }
   ],
   "source": [
    "data.dtype.names"
   ]
  },
  {
   "cell_type": "markdown",
   "metadata": {},
   "source": [
    "Unhelpful, so lets give them something more recognisable. We can use the docs to look up syntax and change the names of the column lables."
   ]
  },
  {
   "cell_type": "markdown",
   "metadata": {},
   "source": [
    "\n",
    "<section class=\"callout panel panel-warning\">\n",
    "<div class=\"panel-heading\">\n",
    "<h2><span class=\"fa fa-thumb-tack\"></span> Google your troubles away</h2>\n",
    "</div>\n",
    "\n",
    "\n",
    "<div class=\"panel-body\">\n",
    "\n",
    "<p>So the docs are <a href=\"http://docs.scipy.org/doc/numpy-1.10.0/reference/generated/numpy.genfromtxt.html\">here</a>. Find the syntax to change to names to better to represent maximum length, lifetime and point in time which they occured.</p>\n",
    "\n",
    "</div>\n",
    "\n",
    "</section>\n"
   ]
  },
  {
   "cell_type": "code",
   "execution_count": 162,
   "metadata": {},
   "outputs": [
    {
     "name": "stderr",
     "output_type": "stream",
     "text": [
      "/Users/jurgen/anaconda3/envs/stfc-summer-school/lib/python3.6/site-packages/ipykernel_launcher.py:1: VisibleDeprecationWarning: Reading unicode strings without specifying the encoding argument is deprecated. Set the encoding, use None for the system default.\n",
      "  \"\"\"Entry point for launching an IPython kernel.\n"
     ]
    },
    {
     "data": {
      "text/plain": [
       "('max_len', 'ltime', 'sample_time')"
      ]
     },
     "execution_count": 162,
     "metadata": {},
     "output_type": "execute_result"
    }
   ],
   "source": [
    "data = np.genfromtxt('data/macrospicules.csv', skip_header=1, dtype=None, delimiter=',', names = ['a', 'b', 'c'])\n",
    "data.dtype.names = ['max_len', 'ltime', 'sample_time']\n",
    "data.dtype.names"
   ]
  },
  {
   "cell_type": "markdown",
   "metadata": {},
   "source": [
    "## DataFrame\n",
    "\n",
    "Now a pandas DataFrame takes two arguments as a minimum, index and data. In this case the index will be our time within the sample and the maximum length and lifetime will be our data. So lets import pandas and use the dataframe:\n",
    "\n",
    "Pandas reads a dictionary when we want to input multiple data columns. Therefore we need to make a dictionary of our data and read that into a pandas data frame. First we need to import pandas."
   ]
  },
  {
   "cell_type": "markdown",
   "metadata": {},
   "source": [
    "\n",
    "<section class=\"callout panel panel-warning\">\n",
    "<div class=\"panel-heading\">\n",
    "<h2><span class=\"fa fa-thumb-tack\"></span> Dictionaries</h2>\n",
    "</div>\n",
    "\n",
    "\n",
    "<div class=\"panel-body\">\n",
    "\n",
    "<p>So we covered dictionaries earlier. We can create keyword data pairs to form a dictionary (shock horror) of values. In this case </p>\n",
    "<div class=\"codehilite\"><pre><span></span>temps = {&#39;Brussles&#39;: 9, &#39;London&#39;: 3, &#39;Barcelona&#39;: 13, &#39;Rome&#39;: 16}\n",
    "temps[&#39;Rome&#39;]\n",
    "16\n",
    "</pre></div>\n",
    "\n",
    "\n",
    "<p>We can also find out what keywords are associated with a given dictionary, In this case:</p>\n",
    "<div class=\"codehilite\"><pre><span></span>temps.keys()\n",
    "dict_keys([&#39;London&#39;, &#39;Barcelona&#39;, &#39;Rome&#39;, &#39;Brussles&#39;])\n",
    "</pre></div>\n",
    "\n",
    "</div>\n",
    "\n",
    "</section>\n"
   ]
  },
  {
   "cell_type": "markdown",
   "metadata": {},
   "source": [
    "First, let's import Pandas:"
   ]
  },
  {
   "cell_type": "code",
   "execution_count": 163,
   "metadata": {},
   "outputs": [
    {
     "name": "stdout",
     "output_type": "stream",
     "text": [
      "                               max_length      ltime\n",
      "b'2010-06-01T13:00:14.120000'   27.022617  13.600000\n",
      "b'2010-06-01T12:58:02.120000'   36.208097   8.400000\n",
      "b'2010-06-15T12:55:02.110000'   62.932898  24.199833\n",
      "b'2010-07-07T12:23:50.110000'   38.970549  22.999667\n",
      "b'2010-07-07T13:28:50.120000'   53.589420  21.799833\n"
     ]
    }
   ],
   "source": [
    "import pandas as pd\n",
    "\n",
    "adict = {'max_length': data['max_len'], 'ltime': data['ltime']}\n",
    "\n",
    "df = pd.DataFrame(data=adict, index=data['sample_time'])\n",
    "print(df.head())\n"
   ]
  },
  {
   "cell_type": "markdown",
   "metadata": {},
   "source": [
    "## Datetime Objects\n",
    "\n",
    "Notice that the time for the sample is in a strange format. It is a string containing the date in YYYY-MM-DD and time in HH-MM-SS-mmmmmm. These datetime objects have their own set of methods associated with them. Python appreciates that these are built this way and can use them for the indexing easily. \n",
    "\n",
    "We can use this module to create date objects (representing just year, month, day). We can also get information about universal time, such as the time and date today.\n",
    "\n",
    "NOTE: Datetime objects are NOT strings. They are objects which print out as strings.\n",
    "\n"
   ]
  },
  {
   "cell_type": "code",
   "execution_count": 164,
   "metadata": {},
   "outputs": [
    {
     "name": "stdout",
     "output_type": "stream",
     "text": [
      "2018-09-06 10:51:22.511378\n",
      "2018-09-06 09:51:22.511712\n",
      "2018-09-06 12:30:00\n"
     ]
    }
   ],
   "source": [
    "import datetime\n",
    "\n",
    "print(datetime.datetime.now())\n",
    "print(datetime.datetime.utcnow())\n",
    "\n",
    "lunchtime = datetime.time(12,30)\n",
    "the_date = datetime.date(2018,9,6)\n",
    "dinner = datetime.datetime.combine(the_date, lunchtime)\n",
    "print(dinner)"
   ]
  },
  {
   "cell_type": "markdown",
   "metadata": {},
   "source": [
    "Looking back at when we discussed the first element of data, and the format of the time index was awkward to use so lets do something about that. "
   ]
  },
  {
   "cell_type": "code",
   "execution_count": 165,
   "metadata": {},
   "outputs": [
    {
     "name": "stdout",
     "output_type": "stream",
     "text": [
      "b'2010-06-01T13:00:14.120000'\n"
     ]
    }
   ],
   "source": [
    "print(df.index[0])"
   ]
  },
  {
   "cell_type": "markdown",
   "metadata": {},
   "source": [
    "So this is a byte rather than a string so we'll need to convert that using the string handling functionality in pandas"
   ]
  },
  {
   "cell_type": "code",
   "execution_count": 166,
   "metadata": {},
   "outputs": [
    {
     "data": {
      "text/plain": [
       "'2010-06-01T13:00:14.120000'"
      ]
     },
     "execution_count": 166,
     "metadata": {},
     "output_type": "execute_result"
    }
   ],
   "source": [
    "df['time'] = df.index.astype(str)\n",
    "df.iloc[0].time"
   ]
  },
  {
   "cell_type": "markdown",
   "metadata": {},
   "source": [
    "This is a string and python will just treat it as such. We need to use datetime to pick this string appart and change it into an oject we can use.\n",
    "\n",
    "[To the Docs!](https://docs.python.org/2/library/datetime.html#strftime-strptime-behavior)\n",
    "\n",
    "So we use the formatting commands to match up with the string we have."
   ]
  },
  {
   "cell_type": "code",
   "execution_count": 167,
   "metadata": {},
   "outputs": [
    {
     "data": {
      "text/plain": [
       "datetime.datetime(2010, 6, 1, 13, 0, 14, 120000)"
      ]
     },
     "execution_count": 167,
     "metadata": {},
     "output_type": "execute_result"
    }
   ],
   "source": [
    "dt_obj = datetime.datetime.strptime(df.iloc[0].time, '%Y-%m-%dT%H:%M:%S.%f')\n",
    "dt_obj"
   ]
  },
  {
   "cell_type": "markdown",
   "metadata": {},
   "source": [
    "We can now get attributes from this such as the hour, month, second and so on"
   ]
  },
  {
   "cell_type": "code",
   "execution_count": 168,
   "metadata": {},
   "outputs": [
    {
     "name": "stdout",
     "output_type": "stream",
     "text": [
      "13\n",
      "6\n",
      "1\n"
     ]
    }
   ],
   "source": [
    "print(dt_obj.hour)\n",
    "print(dt_obj.month)\n",
    "print(dt_obj.day)"
   ]
  },
  {
   "cell_type": "markdown",
   "metadata": {},
   "source": [
    "Now the next logical step would be to make a for loop and iterate over the index and reassign it.\n",
    "\n",
    "*HOWEVER* there is almost always a better way. And Pandas has a `to_dateime()` method that we can feed the time columns:"
   ]
  },
  {
   "cell_type": "code",
   "execution_count": 169,
   "metadata": {},
   "outputs": [
    {
     "data": {
      "text/html": [
       "<div>\n",
       "<style scoped>\n",
       "    .dataframe tbody tr th:only-of-type {\n",
       "        vertical-align: middle;\n",
       "    }\n",
       "\n",
       "    .dataframe tbody tr th {\n",
       "        vertical-align: top;\n",
       "    }\n",
       "\n",
       "    .dataframe thead th {\n",
       "        text-align: right;\n",
       "    }\n",
       "</style>\n",
       "<table border=\"1\" class=\"dataframe\">\n",
       "  <thead>\n",
       "    <tr style=\"text-align: right;\">\n",
       "      <th></th>\n",
       "      <th>max_length</th>\n",
       "      <th>ltime</th>\n",
       "      <th>time</th>\n",
       "      <th>datetime</th>\n",
       "    </tr>\n",
       "  </thead>\n",
       "  <tbody>\n",
       "    <tr>\n",
       "      <th>b'2010-06-01T13:00:14.120000'</th>\n",
       "      <td>27.022617</td>\n",
       "      <td>13.600000</td>\n",
       "      <td>2010-06-01T13:00:14.120000</td>\n",
       "      <td>2010-06-01 13:00:14.120</td>\n",
       "    </tr>\n",
       "    <tr>\n",
       "      <th>b'2010-06-01T12:58:02.120000'</th>\n",
       "      <td>36.208097</td>\n",
       "      <td>8.400000</td>\n",
       "      <td>2010-06-01T12:58:02.120000</td>\n",
       "      <td>2010-06-01 12:58:02.120</td>\n",
       "    </tr>\n",
       "    <tr>\n",
       "      <th>b'2010-06-15T12:55:02.110000'</th>\n",
       "      <td>62.932898</td>\n",
       "      <td>24.199833</td>\n",
       "      <td>2010-06-15T12:55:02.110000</td>\n",
       "      <td>2010-06-15 12:55:02.110</td>\n",
       "    </tr>\n",
       "    <tr>\n",
       "      <th>b'2010-07-07T12:23:50.110000'</th>\n",
       "      <td>38.970549</td>\n",
       "      <td>22.999667</td>\n",
       "      <td>2010-07-07T12:23:50.110000</td>\n",
       "      <td>2010-07-07 12:23:50.110</td>\n",
       "    </tr>\n",
       "    <tr>\n",
       "      <th>b'2010-07-07T13:28:50.120000'</th>\n",
       "      <td>53.589420</td>\n",
       "      <td>21.799833</td>\n",
       "      <td>2010-07-07T13:28:50.120000</td>\n",
       "      <td>2010-07-07 13:28:50.120</td>\n",
       "    </tr>\n",
       "  </tbody>\n",
       "</table>\n",
       "</div>"
      ],
      "text/plain": [
       "                               max_length      ltime  \\\n",
       "b'2010-06-01T13:00:14.120000'   27.022617  13.600000   \n",
       "b'2010-06-01T12:58:02.120000'   36.208097   8.400000   \n",
       "b'2010-06-15T12:55:02.110000'   62.932898  24.199833   \n",
       "b'2010-07-07T12:23:50.110000'   38.970549  22.999667   \n",
       "b'2010-07-07T13:28:50.120000'   53.589420  21.799833   \n",
       "\n",
       "                                                     time  \\\n",
       "b'2010-06-01T13:00:14.120000'  2010-06-01T13:00:14.120000   \n",
       "b'2010-06-01T12:58:02.120000'  2010-06-01T12:58:02.120000   \n",
       "b'2010-06-15T12:55:02.110000'  2010-06-15T12:55:02.110000   \n",
       "b'2010-07-07T12:23:50.110000'  2010-07-07T12:23:50.110000   \n",
       "b'2010-07-07T13:28:50.120000'  2010-07-07T13:28:50.120000   \n",
       "\n",
       "                                             datetime  \n",
       "b'2010-06-01T13:00:14.120000' 2010-06-01 13:00:14.120  \n",
       "b'2010-06-01T12:58:02.120000' 2010-06-01 12:58:02.120  \n",
       "b'2010-06-15T12:55:02.110000' 2010-06-15 12:55:02.110  \n",
       "b'2010-07-07T12:23:50.110000' 2010-07-07 12:23:50.110  \n",
       "b'2010-07-07T13:28:50.120000' 2010-07-07 13:28:50.120  "
      ]
     },
     "execution_count": 169,
     "metadata": {},
     "output_type": "execute_result"
    }
   ],
   "source": [
    "df['datetime'] = pd.to_datetime(df.time)\n",
    "df.head()"
   ]
  },
  {
   "cell_type": "markdown",
   "metadata": {},
   "source": [
    "There is also one of the most powerful featues of python, Apply. \n",
    "Apply will take a function and apply it to all rows in a dataframe or column. The easiest way to do this is with a lambda function"
   ]
  },
  {
   "cell_type": "code",
   "execution_count": 170,
   "metadata": {},
   "outputs": [],
   "source": [
    "df['otehr_datetime']=df.time.apply(lambda x:datetime.datetime.strptime(x, '%Y-%m-%dT%H:%M:%S.%f'))"
   ]
  },
  {
   "cell_type": "code",
   "execution_count": 171,
   "metadata": {},
   "outputs": [
    {
     "data": {
      "text/html": [
       "<div>\n",
       "<style scoped>\n",
       "    .dataframe tbody tr th:only-of-type {\n",
       "        vertical-align: middle;\n",
       "    }\n",
       "\n",
       "    .dataframe tbody tr th {\n",
       "        vertical-align: top;\n",
       "    }\n",
       "\n",
       "    .dataframe thead th {\n",
       "        text-align: right;\n",
       "    }\n",
       "</style>\n",
       "<table border=\"1\" class=\"dataframe\">\n",
       "  <thead>\n",
       "    <tr style=\"text-align: right;\">\n",
       "      <th></th>\n",
       "      <th>max_length</th>\n",
       "      <th>ltime</th>\n",
       "      <th>time</th>\n",
       "      <th>datetime</th>\n",
       "      <th>otehr_datetime</th>\n",
       "    </tr>\n",
       "  </thead>\n",
       "  <tbody>\n",
       "    <tr>\n",
       "      <th>b'2010-06-01T13:00:14.120000'</th>\n",
       "      <td>27.022617</td>\n",
       "      <td>13.600000</td>\n",
       "      <td>2010-06-01T13:00:14.120000</td>\n",
       "      <td>2010-06-01 13:00:14.120</td>\n",
       "      <td>2010-06-01 13:00:14.120</td>\n",
       "    </tr>\n",
       "    <tr>\n",
       "      <th>b'2010-06-01T12:58:02.120000'</th>\n",
       "      <td>36.208097</td>\n",
       "      <td>8.400000</td>\n",
       "      <td>2010-06-01T12:58:02.120000</td>\n",
       "      <td>2010-06-01 12:58:02.120</td>\n",
       "      <td>2010-06-01 12:58:02.120</td>\n",
       "    </tr>\n",
       "    <tr>\n",
       "      <th>b'2010-06-15T12:55:02.110000'</th>\n",
       "      <td>62.932898</td>\n",
       "      <td>24.199833</td>\n",
       "      <td>2010-06-15T12:55:02.110000</td>\n",
       "      <td>2010-06-15 12:55:02.110</td>\n",
       "      <td>2010-06-15 12:55:02.110</td>\n",
       "    </tr>\n",
       "    <tr>\n",
       "      <th>b'2010-07-07T12:23:50.110000'</th>\n",
       "      <td>38.970549</td>\n",
       "      <td>22.999667</td>\n",
       "      <td>2010-07-07T12:23:50.110000</td>\n",
       "      <td>2010-07-07 12:23:50.110</td>\n",
       "      <td>2010-07-07 12:23:50.110</td>\n",
       "    </tr>\n",
       "    <tr>\n",
       "      <th>b'2010-07-07T13:28:50.120000'</th>\n",
       "      <td>53.589420</td>\n",
       "      <td>21.799833</td>\n",
       "      <td>2010-07-07T13:28:50.120000</td>\n",
       "      <td>2010-07-07 13:28:50.120</td>\n",
       "      <td>2010-07-07 13:28:50.120</td>\n",
       "    </tr>\n",
       "  </tbody>\n",
       "</table>\n",
       "</div>"
      ],
      "text/plain": [
       "                               max_length      ltime  \\\n",
       "b'2010-06-01T13:00:14.120000'   27.022617  13.600000   \n",
       "b'2010-06-01T12:58:02.120000'   36.208097   8.400000   \n",
       "b'2010-06-15T12:55:02.110000'   62.932898  24.199833   \n",
       "b'2010-07-07T12:23:50.110000'   38.970549  22.999667   \n",
       "b'2010-07-07T13:28:50.120000'   53.589420  21.799833   \n",
       "\n",
       "                                                     time  \\\n",
       "b'2010-06-01T13:00:14.120000'  2010-06-01T13:00:14.120000   \n",
       "b'2010-06-01T12:58:02.120000'  2010-06-01T12:58:02.120000   \n",
       "b'2010-06-15T12:55:02.110000'  2010-06-15T12:55:02.110000   \n",
       "b'2010-07-07T12:23:50.110000'  2010-07-07T12:23:50.110000   \n",
       "b'2010-07-07T13:28:50.120000'  2010-07-07T13:28:50.120000   \n",
       "\n",
       "                                             datetime          otehr_datetime  \n",
       "b'2010-06-01T13:00:14.120000' 2010-06-01 13:00:14.120 2010-06-01 13:00:14.120  \n",
       "b'2010-06-01T12:58:02.120000' 2010-06-01 12:58:02.120 2010-06-01 12:58:02.120  \n",
       "b'2010-06-15T12:55:02.110000' 2010-06-15 12:55:02.110 2010-06-15 12:55:02.110  \n",
       "b'2010-07-07T12:23:50.110000' 2010-07-07 12:23:50.110 2010-07-07 12:23:50.110  \n",
       "b'2010-07-07T13:28:50.120000' 2010-07-07 13:28:50.120 2010-07-07 13:28:50.120  "
      ]
     },
     "execution_count": 171,
     "metadata": {},
     "output_type": "execute_result"
    }
   ],
   "source": [
    "df.head()"
   ]
  },
  {
   "cell_type": "markdown",
   "metadata": {},
   "source": [
    "Both these are much cleaner and faster due to pandas' optimisation. We can now set one of these as the index"
   ]
  },
  {
   "cell_type": "code",
   "execution_count": 172,
   "metadata": {},
   "outputs": [
    {
     "data": {
      "text/html": [
       "<div>\n",
       "<style scoped>\n",
       "    .dataframe tbody tr th:only-of-type {\n",
       "        vertical-align: middle;\n",
       "    }\n",
       "\n",
       "    .dataframe tbody tr th {\n",
       "        vertical-align: top;\n",
       "    }\n",
       "\n",
       "    .dataframe thead th {\n",
       "        text-align: right;\n",
       "    }\n",
       "</style>\n",
       "<table border=\"1\" class=\"dataframe\">\n",
       "  <thead>\n",
       "    <tr style=\"text-align: right;\">\n",
       "      <th></th>\n",
       "      <th>max_length</th>\n",
       "      <th>ltime</th>\n",
       "      <th>time</th>\n",
       "      <th>otehr_datetime</th>\n",
       "    </tr>\n",
       "    <tr>\n",
       "      <th>datetime</th>\n",
       "      <th></th>\n",
       "      <th></th>\n",
       "      <th></th>\n",
       "      <th></th>\n",
       "    </tr>\n",
       "  </thead>\n",
       "  <tbody>\n",
       "    <tr>\n",
       "      <th>2010-06-01 13:00:14.120</th>\n",
       "      <td>27.022617</td>\n",
       "      <td>13.600000</td>\n",
       "      <td>2010-06-01T13:00:14.120000</td>\n",
       "      <td>2010-06-01 13:00:14.120</td>\n",
       "    </tr>\n",
       "    <tr>\n",
       "      <th>2010-06-01 12:58:02.120</th>\n",
       "      <td>36.208097</td>\n",
       "      <td>8.400000</td>\n",
       "      <td>2010-06-01T12:58:02.120000</td>\n",
       "      <td>2010-06-01 12:58:02.120</td>\n",
       "    </tr>\n",
       "    <tr>\n",
       "      <th>2010-06-15 12:55:02.110</th>\n",
       "      <td>62.932898</td>\n",
       "      <td>24.199833</td>\n",
       "      <td>2010-06-15T12:55:02.110000</td>\n",
       "      <td>2010-06-15 12:55:02.110</td>\n",
       "    </tr>\n",
       "    <tr>\n",
       "      <th>2010-07-07 12:23:50.110</th>\n",
       "      <td>38.970549</td>\n",
       "      <td>22.999667</td>\n",
       "      <td>2010-07-07T12:23:50.110000</td>\n",
       "      <td>2010-07-07 12:23:50.110</td>\n",
       "    </tr>\n",
       "    <tr>\n",
       "      <th>2010-07-07 13:28:50.120</th>\n",
       "      <td>53.589420</td>\n",
       "      <td>21.799833</td>\n",
       "      <td>2010-07-07T13:28:50.120000</td>\n",
       "      <td>2010-07-07 13:28:50.120</td>\n",
       "    </tr>\n",
       "  </tbody>\n",
       "</table>\n",
       "</div>"
      ],
      "text/plain": [
       "                         max_length      ltime                        time  \\\n",
       "datetime                                                                     \n",
       "2010-06-01 13:00:14.120   27.022617  13.600000  2010-06-01T13:00:14.120000   \n",
       "2010-06-01 12:58:02.120   36.208097   8.400000  2010-06-01T12:58:02.120000   \n",
       "2010-06-15 12:55:02.110   62.932898  24.199833  2010-06-15T12:55:02.110000   \n",
       "2010-07-07 12:23:50.110   38.970549  22.999667  2010-07-07T12:23:50.110000   \n",
       "2010-07-07 13:28:50.120   53.589420  21.799833  2010-07-07T13:28:50.120000   \n",
       "\n",
       "                                 otehr_datetime  \n",
       "datetime                                         \n",
       "2010-06-01 13:00:14.120 2010-06-01 13:00:14.120  \n",
       "2010-06-01 12:58:02.120 2010-06-01 12:58:02.120  \n",
       "2010-06-15 12:55:02.110 2010-06-15 12:55:02.110  \n",
       "2010-07-07 12:23:50.110 2010-07-07 12:23:50.110  \n",
       "2010-07-07 13:28:50.120 2010-07-07 13:28:50.120  "
      ]
     },
     "execution_count": 172,
     "metadata": {},
     "output_type": "execute_result"
    }
   ],
   "source": [
    "df.set_index('datetime', inplace = True)\n",
    "df.head()"
   ]
  },
  {
   "cell_type": "markdown",
   "metadata": {},
   "source": [
    "Now that there are official datetime objects on the index we can start operating based on the time of the frame"
   ]
  },
  {
   "cell_type": "code",
   "execution_count": 178,
   "metadata": {},
   "outputs": [
    {
     "data": {
      "text/plain": [
       "54"
      ]
     },
     "execution_count": 178,
     "metadata": {},
     "output_type": "execute_result"
    }
   ],
   "source": [
    "l_bins = df.groupby([df.index.year, df.index.month])\n",
    "len(l_bins)"
   ]
  },
  {
   "cell_type": "markdown",
   "metadata": {},
   "source": [
    "Here we have used the groupby command to take the `'max_len'` column, called as a dictionary key, and create bins for our data to sit in according to year and then month. \n",
    "\n",
    "The object `l_bins` has `mean`, `max`, `std` etc. attributes in the same way as the numpy arrays we handled the other day."
   ]
  },
  {
   "cell_type": "code",
   "execution_count": 181,
   "metadata": {},
   "outputs": [],
   "source": [
    "agg_spicules = df.groupby([df.index.year, df.index.month]).agg({'max_length': [np.mean, np.std]})"
   ]
  },
  {
   "cell_type": "code",
   "execution_count": 182,
   "metadata": {},
   "outputs": [
    {
     "data": {
      "text/html": [
       "<div>\n",
       "<style scoped>\n",
       "    .dataframe tbody tr th:only-of-type {\n",
       "        vertical-align: middle;\n",
       "    }\n",
       "\n",
       "    .dataframe tbody tr th {\n",
       "        vertical-align: top;\n",
       "    }\n",
       "\n",
       "    .dataframe thead tr th {\n",
       "        text-align: left;\n",
       "    }\n",
       "\n",
       "    .dataframe thead tr:last-of-type th {\n",
       "        text-align: right;\n",
       "    }\n",
       "</style>\n",
       "<table border=\"1\" class=\"dataframe\">\n",
       "  <thead>\n",
       "    <tr>\n",
       "      <th></th>\n",
       "      <th></th>\n",
       "      <th colspan=\"2\" halign=\"left\">max_length</th>\n",
       "    </tr>\n",
       "    <tr>\n",
       "      <th></th>\n",
       "      <th></th>\n",
       "      <th>mean</th>\n",
       "      <th>std</th>\n",
       "    </tr>\n",
       "    <tr>\n",
       "      <th>datetime</th>\n",
       "      <th>datetime</th>\n",
       "      <th></th>\n",
       "      <th></th>\n",
       "    </tr>\n",
       "  </thead>\n",
       "  <tbody>\n",
       "    <tr>\n",
       "      <th rowspan=\"7\" valign=\"top\">2010</th>\n",
       "      <th>6</th>\n",
       "      <td>42.054537</td>\n",
       "      <td>18.655367</td>\n",
       "    </tr>\n",
       "    <tr>\n",
       "      <th>7</th>\n",
       "      <td>36.717821</td>\n",
       "      <td>10.618364</td>\n",
       "    </tr>\n",
       "    <tr>\n",
       "      <th>8</th>\n",
       "      <td>41.311295</td>\n",
       "      <td>5.440305</td>\n",
       "    </tr>\n",
       "    <tr>\n",
       "      <th>9</th>\n",
       "      <td>34.696942</td>\n",
       "      <td>6.979722</td>\n",
       "    </tr>\n",
       "    <tr>\n",
       "      <th>10</th>\n",
       "      <td>38.709587</td>\n",
       "      <td>3.391356</td>\n",
       "    </tr>\n",
       "    <tr>\n",
       "      <th>11</th>\n",
       "      <td>45.177555</td>\n",
       "      <td>10.337633</td>\n",
       "    </tr>\n",
       "    <tr>\n",
       "      <th>12</th>\n",
       "      <td>40.924916</td>\n",
       "      <td>11.664923</td>\n",
       "    </tr>\n",
       "    <tr>\n",
       "      <th rowspan=\"11\" valign=\"top\">2011</th>\n",
       "      <th>1</th>\n",
       "      <td>41.170836</td>\n",
       "      <td>13.310975</td>\n",
       "    </tr>\n",
       "    <tr>\n",
       "      <th>2</th>\n",
       "      <td>38.385196</td>\n",
       "      <td>10.294977</td>\n",
       "    </tr>\n",
       "    <tr>\n",
       "      <th>3</th>\n",
       "      <td>37.007258</td>\n",
       "      <td>9.966492</td>\n",
       "    </tr>\n",
       "    <tr>\n",
       "      <th>4</th>\n",
       "      <td>45.966302</td>\n",
       "      <td>9.281308</td>\n",
       "    </tr>\n",
       "    <tr>\n",
       "      <th>5</th>\n",
       "      <td>39.049844</td>\n",
       "      <td>12.832214</td>\n",
       "    </tr>\n",
       "    <tr>\n",
       "      <th>7</th>\n",
       "      <td>45.736577</td>\n",
       "      <td>12.569426</td>\n",
       "    </tr>\n",
       "    <tr>\n",
       "      <th>8</th>\n",
       "      <td>42.089144</td>\n",
       "      <td>6.505276</td>\n",
       "    </tr>\n",
       "    <tr>\n",
       "      <th>9</th>\n",
       "      <td>37.181781</td>\n",
       "      <td>2.942115</td>\n",
       "    </tr>\n",
       "    <tr>\n",
       "      <th>10</th>\n",
       "      <td>45.276066</td>\n",
       "      <td>5.148206</td>\n",
       "    </tr>\n",
       "    <tr>\n",
       "      <th>11</th>\n",
       "      <td>39.070391</td>\n",
       "      <td>5.866478</td>\n",
       "    </tr>\n",
       "    <tr>\n",
       "      <th>12</th>\n",
       "      <td>34.882456</td>\n",
       "      <td>5.405979</td>\n",
       "    </tr>\n",
       "    <tr>\n",
       "      <th rowspan=\"12\" valign=\"top\">2012</th>\n",
       "      <th>1</th>\n",
       "      <td>50.059810</td>\n",
       "      <td>4.531475</td>\n",
       "    </tr>\n",
       "    <tr>\n",
       "      <th>2</th>\n",
       "      <td>32.477849</td>\n",
       "      <td>10.022291</td>\n",
       "    </tr>\n",
       "    <tr>\n",
       "      <th>3</th>\n",
       "      <td>39.154133</td>\n",
       "      <td>12.585824</td>\n",
       "    </tr>\n",
       "    <tr>\n",
       "      <th>4</th>\n",
       "      <td>32.305885</td>\n",
       "      <td>8.614694</td>\n",
       "    </tr>\n",
       "    <tr>\n",
       "      <th>5</th>\n",
       "      <td>31.951032</td>\n",
       "      <td>8.301316</td>\n",
       "    </tr>\n",
       "    <tr>\n",
       "      <th>6</th>\n",
       "      <td>30.973616</td>\n",
       "      <td>4.185172</td>\n",
       "    </tr>\n",
       "    <tr>\n",
       "      <th>7</th>\n",
       "      <td>28.897303</td>\n",
       "      <td>NaN</td>\n",
       "    </tr>\n",
       "    <tr>\n",
       "      <th>8</th>\n",
       "      <td>30.068358</td>\n",
       "      <td>7.679454</td>\n",
       "    </tr>\n",
       "    <tr>\n",
       "      <th>9</th>\n",
       "      <td>36.644022</td>\n",
       "      <td>6.678510</td>\n",
       "    </tr>\n",
       "    <tr>\n",
       "      <th>10</th>\n",
       "      <td>39.539804</td>\n",
       "      <td>6.273834</td>\n",
       "    </tr>\n",
       "    <tr>\n",
       "      <th>11</th>\n",
       "      <td>36.201343</td>\n",
       "      <td>5.908986</td>\n",
       "    </tr>\n",
       "    <tr>\n",
       "      <th>12</th>\n",
       "      <td>35.001790</td>\n",
       "      <td>7.305525</td>\n",
       "    </tr>\n",
       "    <tr>\n",
       "      <th rowspan=\"12\" valign=\"top\">2013</th>\n",
       "      <th>1</th>\n",
       "      <td>45.718231</td>\n",
       "      <td>6.730764</td>\n",
       "    </tr>\n",
       "    <tr>\n",
       "      <th>2</th>\n",
       "      <td>33.958883</td>\n",
       "      <td>3.328555</td>\n",
       "    </tr>\n",
       "    <tr>\n",
       "      <th>3</th>\n",
       "      <td>44.252989</td>\n",
       "      <td>NaN</td>\n",
       "    </tr>\n",
       "    <tr>\n",
       "      <th>4</th>\n",
       "      <td>41.490083</td>\n",
       "      <td>8.630605</td>\n",
       "    </tr>\n",
       "    <tr>\n",
       "      <th>5</th>\n",
       "      <td>38.047579</td>\n",
       "      <td>5.048431</td>\n",
       "    </tr>\n",
       "    <tr>\n",
       "      <th>6</th>\n",
       "      <td>53.229354</td>\n",
       "      <td>13.288040</td>\n",
       "    </tr>\n",
       "    <tr>\n",
       "      <th>7</th>\n",
       "      <td>44.728946</td>\n",
       "      <td>9.625425</td>\n",
       "    </tr>\n",
       "    <tr>\n",
       "      <th>8</th>\n",
       "      <td>33.382734</td>\n",
       "      <td>10.699844</td>\n",
       "    </tr>\n",
       "    <tr>\n",
       "      <th>9</th>\n",
       "      <td>37.055785</td>\n",
       "      <td>5.729928</td>\n",
       "    </tr>\n",
       "    <tr>\n",
       "      <th>10</th>\n",
       "      <td>31.258302</td>\n",
       "      <td>3.339021</td>\n",
       "    </tr>\n",
       "    <tr>\n",
       "      <th>11</th>\n",
       "      <td>28.063602</td>\n",
       "      <td>7.889644</td>\n",
       "    </tr>\n",
       "    <tr>\n",
       "      <th>12</th>\n",
       "      <td>32.474516</td>\n",
       "      <td>7.797334</td>\n",
       "    </tr>\n",
       "    <tr>\n",
       "      <th rowspan=\"12\" valign=\"top\">2014</th>\n",
       "      <th>1</th>\n",
       "      <td>42.680747</td>\n",
       "      <td>5.005861</td>\n",
       "    </tr>\n",
       "    <tr>\n",
       "      <th>2</th>\n",
       "      <td>26.620170</td>\n",
       "      <td>3.093437</td>\n",
       "    </tr>\n",
       "    <tr>\n",
       "      <th>3</th>\n",
       "      <td>25.922509</td>\n",
       "      <td>5.225323</td>\n",
       "    </tr>\n",
       "    <tr>\n",
       "      <th>4</th>\n",
       "      <td>31.924611</td>\n",
       "      <td>15.910663</td>\n",
       "    </tr>\n",
       "    <tr>\n",
       "      <th>5</th>\n",
       "      <td>27.203932</td>\n",
       "      <td>5.172536</td>\n",
       "    </tr>\n",
       "    <tr>\n",
       "      <th>6</th>\n",
       "      <td>30.948541</td>\n",
       "      <td>8.333880</td>\n",
       "    </tr>\n",
       "    <tr>\n",
       "      <th>7</th>\n",
       "      <td>38.049466</td>\n",
       "      <td>10.603654</td>\n",
       "    </tr>\n",
       "    <tr>\n",
       "      <th>8</th>\n",
       "      <td>33.752406</td>\n",
       "      <td>5.246553</td>\n",
       "    </tr>\n",
       "    <tr>\n",
       "      <th>9</th>\n",
       "      <td>32.567724</td>\n",
       "      <td>7.447101</td>\n",
       "    </tr>\n",
       "    <tr>\n",
       "      <th>10</th>\n",
       "      <td>39.904318</td>\n",
       "      <td>3.560158</td>\n",
       "    </tr>\n",
       "    <tr>\n",
       "      <th>11</th>\n",
       "      <td>36.937597</td>\n",
       "      <td>4.900183</td>\n",
       "    </tr>\n",
       "    <tr>\n",
       "      <th>12</th>\n",
       "      <td>40.789644</td>\n",
       "      <td>7.838396</td>\n",
       "    </tr>\n",
       "  </tbody>\n",
       "</table>\n",
       "</div>"
      ],
      "text/plain": [
       "                  max_length           \n",
       "                        mean        std\n",
       "datetime datetime                      \n",
       "2010     6         42.054537  18.655367\n",
       "         7         36.717821  10.618364\n",
       "         8         41.311295   5.440305\n",
       "         9         34.696942   6.979722\n",
       "         10        38.709587   3.391356\n",
       "         11        45.177555  10.337633\n",
       "         12        40.924916  11.664923\n",
       "2011     1         41.170836  13.310975\n",
       "         2         38.385196  10.294977\n",
       "         3         37.007258   9.966492\n",
       "         4         45.966302   9.281308\n",
       "         5         39.049844  12.832214\n",
       "         7         45.736577  12.569426\n",
       "         8         42.089144   6.505276\n",
       "         9         37.181781   2.942115\n",
       "         10        45.276066   5.148206\n",
       "         11        39.070391   5.866478\n",
       "         12        34.882456   5.405979\n",
       "2012     1         50.059810   4.531475\n",
       "         2         32.477849  10.022291\n",
       "         3         39.154133  12.585824\n",
       "         4         32.305885   8.614694\n",
       "         5         31.951032   8.301316\n",
       "         6         30.973616   4.185172\n",
       "         7         28.897303        NaN\n",
       "         8         30.068358   7.679454\n",
       "         9         36.644022   6.678510\n",
       "         10        39.539804   6.273834\n",
       "         11        36.201343   5.908986\n",
       "         12        35.001790   7.305525\n",
       "2013     1         45.718231   6.730764\n",
       "         2         33.958883   3.328555\n",
       "         3         44.252989        NaN\n",
       "         4         41.490083   8.630605\n",
       "         5         38.047579   5.048431\n",
       "         6         53.229354  13.288040\n",
       "         7         44.728946   9.625425\n",
       "         8         33.382734  10.699844\n",
       "         9         37.055785   5.729928\n",
       "         10        31.258302   3.339021\n",
       "         11        28.063602   7.889644\n",
       "         12        32.474516   7.797334\n",
       "2014     1         42.680747   5.005861\n",
       "         2         26.620170   3.093437\n",
       "         3         25.922509   5.225323\n",
       "         4         31.924611  15.910663\n",
       "         5         27.203932   5.172536\n",
       "         6         30.948541   8.333880\n",
       "         7         38.049466  10.603654\n",
       "         8         33.752406   5.246553\n",
       "         9         32.567724   7.447101\n",
       "         10        39.904318   3.560158\n",
       "         11        36.937597   4.900183\n",
       "         12        40.789644   7.838396"
      ]
     },
     "execution_count": 182,
     "metadata": {},
     "output_type": "execute_result"
    }
   ],
   "source": [
    "agg_spicules"
   ]
  },
  {
   "cell_type": "markdown",
   "metadata": {},
   "source": [
    "Now we have all this data we can build a lovely bargraph with error bars and wonderful things like that.\n",
    "\n",
    "Remember, these pandas objects have functions associated with them, and one of them is a plot command."
   ]
  },
  {
   "cell_type": "code",
   "execution_count": null,
   "metadata": {},
   "outputs": [],
   "source": []
  },
  {
   "cell_type": "code",
   "execution_count": null,
   "metadata": {},
   "outputs": [],
   "source": []
  },
  {
   "cell_type": "markdown",
   "metadata": {},
   "source": [
    "Note that the date on the x-axis is a little messed up we can fix with `fig.autofmt_xdate()`\n",
    "\n"
   ]
  },
  {
   "cell_type": "markdown",
   "metadata": {},
   "source": [
    "\n",
    "<section class=\"challenge panel panel-success\">\n",
    "<div class=\"panel-heading\">\n",
    "<h2><span class=\"fa fa-pencil\"></span> How do the lifetimes change?</h2>\n",
    "</div>\n",
    "\n",
    "\n",
    "<div class=\"panel-body\">\n",
    "\n",
    "<p>Now that we have the plot for the maximum length, now make a bar graph of the lifetimes of the features.</p>\n",
    "\n",
    "</div>\n",
    "\n",
    "</section>\n"
   ]
  },
  {
   "cell_type": "code",
   "execution_count": null,
   "metadata": {},
   "outputs": [],
   "source": []
  },
  {
   "cell_type": "markdown",
   "metadata": {},
   "source": [
    "\n",
    "<section class=\"challenge panel panel-success\">\n",
    "<div class=\"panel-heading\">\n",
    "<h2><span class=\"fa fa-pencil\"></span> Exoplanet Data</h2>\n",
    "</div>\n",
    "\n",
    "\n",
    "<div class=\"panel-body\">\n",
    "\n",
    "<p>Now, to all the astronomers out there, let us process some real data. We have some txt files containing the timeseries data from a recent paper. Can you process the data and show us the planet?</p>\n",
    "<p>HINT: You'll need to treat this data slightly differently. The date here is in Julian Day so you will need to use <a href=\"http://docs.astropy.org/en/v1.1.1/api/astropy.time.Time.html\">these</a> docs to convert it to a sensible datetime object, before you make the DataFrame.</p>\n",
    "\n",
    "</div>\n",
    "\n",
    "</section>\n"
   ]
  },
  {
   "cell_type": "code",
   "execution_count": null,
   "metadata": {},
   "outputs": [],
   "source": []
  },
  {
   "cell_type": "code",
   "execution_count": null,
   "metadata": {},
   "outputs": [],
   "source": []
  },
  {
   "cell_type": "code",
   "execution_count": null,
   "metadata": {},
   "outputs": [],
   "source": []
  },
  {
   "cell_type": "code",
   "execution_count": null,
   "metadata": {},
   "outputs": [],
   "source": []
  },
  {
   "cell_type": "code",
   "execution_count": null,
   "metadata": {},
   "outputs": [],
   "source": []
  },
  {
   "cell_type": "code",
   "execution_count": null,
   "metadata": {},
   "outputs": [],
   "source": []
  }
 ],
 "metadata": {
  "kernelspec": {
   "display_name": "Python 3",
   "language": "python",
   "name": "python3"
  },
  "language_info": {
   "codemirror_mode": {
    "name": "ipython",
    "version": 3
   },
   "file_extension": ".py",
   "mimetype": "text/x-python",
   "name": "python",
   "nbconvert_exporter": "python",
   "pygments_lexer": "ipython3",
   "version": "3.6.6"
  }
 },
 "nbformat": 4,
 "nbformat_minor": 1
}
