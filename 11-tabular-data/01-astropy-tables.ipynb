{
 "cells": [
  {
   "cell_type": "markdown",
   "metadata": {},
   "source": [
    "# Astropy: Tables"
   ]
  },
  {
   "cell_type": "markdown",
   "metadata": {},
   "source": [
    "\n",
    "<section class=\"objectives panel panel-warning\">\n",
    "<div class=\"panel-heading\">\n",
    "<h2><span class=\"fa fa-certificate\"></span> Objectives</h2>\n",
    "</div>\n",
    "\n",
    "\n",
    "<div class=\"panel-body\">\n",
    "\n",
    "<ul>\n",
    "<li>Create tables</li>\n",
    "<li>Access data in tables</li>\n",
    "<li>Combining tables</li>\n",
    "<li>Aggregation</li>\n",
    "<li>Masking</li>\n",
    "<li>Reading/writing</li>\n",
    "</ul>\n",
    "\n",
    "</div>\n",
    "\n",
    "</section>\n"
   ]
  },
  {
   "cell_type": "markdown",
   "metadata": {},
   "source": [
    "## Documentation"
   ]
  },
  {
   "cell_type": "markdown",
   "metadata": {},
   "source": [
    "For more information about the features presented below, you can read the\n",
    "[astropy.table](http://docs.astropy.org/en/stable/table/index.html) docs."
   ]
  },
  {
   "cell_type": "markdown",
   "metadata": {},
   "source": [
    "## Creating tables"
   ]
  },
  {
   "cell_type": "code",
   "execution_count": 2,
   "metadata": {},
   "outputs": [],
   "source": [
    "from astropy.table import Table\n",
    "import numpy as np"
   ]
  },
  {
   "cell_type": "code",
   "execution_count": 7,
   "metadata": {},
   "outputs": [
    {
     "name": "stdout",
     "output_type": "stream",
     "text": [
      "  name   flux\n",
      "-------- ----\n",
      "source 1  1.2\n",
      "source 2  2.2\n",
      "source 3  3.1\n"
     ]
    }
   ],
   "source": [
    "t1 = Table()\n",
    "t1['name'] = ['source 1', 'source 2', 'source 3']\n",
    "t1['flux'] = [1.2, 2.2, 3.1]\n",
    "print(t1)"
   ]
  },
  {
   "cell_type": "code",
   "execution_count": 13,
   "metadata": {},
   "outputs": [
    {
     "data": {
      "text/html": [
       "<i>Table length=3</i>\n",
       "<table id=\"table34655770552\" class=\"table-striped table-bordered table-condensed\">\n",
       "<thead><tr><th>name</th><th>flux</th><th>size</th></tr></thead>\n",
       "<thead><tr><th>str8</th><th>float64</th><th>int64</th></tr></thead>\n",
       "<tr><td>source 1</td><td>1.2</td><td>1</td></tr>\n",
       "<tr><td>source 2</td><td>2.2</td><td>5</td></tr>\n",
       "<tr><td>source 3</td><td>3.1</td><td>4</td></tr>\n",
       "</table>"
      ],
      "text/plain": [
       "<Table length=3>\n",
       "  name     flux   size\n",
       "  str8   float64 int64\n",
       "-------- ------- -----\n",
       "source 1     1.2     1\n",
       "source 2     2.2     5\n",
       "source 3     3.1     4"
      ]
     },
     "execution_count": 13,
     "metadata": {},
     "output_type": "execute_result"
    }
   ],
   "source": [
    "t1"
   ]
  },
  {
   "cell_type": "code",
   "execution_count": 12,
   "metadata": {},
   "outputs": [],
   "source": [
    "t1['size'] = [1,5,4]"
   ]
  },
  {
   "cell_type": "code",
   "execution_count": 16,
   "metadata": {},
   "outputs": [
    {
     "data": {
      "text/html": [
       "&lt;Column name=&apos;size&apos; dtype=&apos;int64&apos; length=3&gt;\n",
       "<table>\n",
       "<tr><td>1</td></tr>\n",
       "<tr><td>5</td></tr>\n",
       "<tr><td>4</td></tr>\n",
       "</table>"
      ],
      "text/plain": [
       "<Column name='size' dtype='int64' length=3>\n",
       "1\n",
       "5\n",
       "4"
      ]
     },
     "execution_count": 16,
     "metadata": {},
     "output_type": "execute_result"
    }
   ],
   "source": [
    "t1['size']"
   ]
  },
  {
   "cell_type": "code",
   "execution_count": 17,
   "metadata": {},
   "outputs": [
    {
     "data": {
      "text/plain": [
       "array([1, 5, 4])"
      ]
     },
     "execution_count": 17,
     "metadata": {},
     "output_type": "execute_result"
    }
   ],
   "source": [
    "np.array(t1['size'])"
   ]
  },
  {
   "cell_type": "code",
   "execution_count": 22,
   "metadata": {},
   "outputs": [
    {
     "data": {
      "text/html": [
       "<i>Row index=0</i>\n",
       "<table id=\"table34655770552\">\n",
       "<thead><tr><th>name</th><th>flux</th><th>size</th></tr></thead>\n",
       "<thead><tr><th>str8</th><th>float64</th><th>int64</th></tr></thead>\n",
       "<tr><td>source 1</td><td>1.2</td><td>1</td></tr>\n",
       "</table>"
      ],
      "text/plain": [
       "<Row index=0>\n",
       "  name     flux   size\n",
       "  str8   float64 int64\n",
       "-------- ------- -----\n",
       "source 1     1.2     1"
      ]
     },
     "execution_count": 22,
     "metadata": {},
     "output_type": "execute_result"
    }
   ],
   "source": [
    "t1[0]"
   ]
  },
  {
   "cell_type": "code",
   "execution_count": 23,
   "metadata": {},
   "outputs": [
    {
     "data": {
      "text/plain": [
       "1"
      ]
     },
     "execution_count": 23,
     "metadata": {},
     "output_type": "execute_result"
    }
   ],
   "source": [
    "t1[0]['size']"
   ]
  },
  {
   "cell_type": "markdown",
   "metadata": {},
   "source": [
    "## Units in tables"
   ]
  },
  {
   "cell_type": "code",
   "execution_count": 37,
   "metadata": {},
   "outputs": [
    {
     "data": {
      "text/html": [
       "<i>Table length=3</i>\n",
       "<table id=\"table34655770552\" class=\"table-striped table-bordered table-condensed\">\n",
       "<thead><tr><th>name</th><th>flux</th><th>size</th></tr></thead>\n",
       "<thead><tr><th></th><th></th><th>cm</th></tr></thead>\n",
       "<thead><tr><th>str8</th><th>float64</th><th>int64</th></tr></thead>\n",
       "<tr><td>source 1</td><td>1.2</td><td>1</td></tr>\n",
       "<tr><td>source 2</td><td>2.2</td><td>5</td></tr>\n",
       "<tr><td>source 3</td><td>3.1</td><td>4</td></tr>\n",
       "</table>"
      ],
      "text/plain": [
       "<Table length=3>\n",
       "  name     flux   size\n",
       "                   cm \n",
       "  str8   float64 int64\n",
       "-------- ------- -----\n",
       "source 1     1.2     1\n",
       "source 2     2.2     5\n",
       "source 3     3.1     4"
      ]
     },
     "execution_count": 37,
     "metadata": {},
     "output_type": "execute_result"
    }
   ],
   "source": [
    "import astropy.units as u\n",
    "t1['size'].unit = 'cm'\n",
    "t1"
   ]
  },
  {
   "cell_type": "markdown",
   "metadata": {},
   "source": [
    "Some unitful operations will then work:"
   ]
  },
  {
   "cell_type": "code",
   "execution_count": 38,
   "metadata": {},
   "outputs": [
    {
     "data": {
      "text/latex": [
       "$[0.01,~0.05,~0.04] \\; \\mathrm{m}$"
      ],
      "text/plain": [
       "<Quantity [0.01, 0.05, 0.04] m>"
      ]
     },
     "execution_count": 38,
     "metadata": {},
     "output_type": "execute_result"
    }
   ],
   "source": [
    "t1['size'].to('m')"
   ]
  },
  {
   "cell_type": "markdown",
   "metadata": {},
   "source": [
    "However, you may run into unexpected behavior, so if you are planning on using table columns as Quantities, we recommend that you use the ``QTable`` class:"
   ]
  },
  {
   "cell_type": "code",
   "execution_count": 39,
   "metadata": {},
   "outputs": [
    {
     "data": {
      "text/plain": [
       "astropy.table.column.Column"
      ]
     },
     "execution_count": 39,
     "metadata": {},
     "output_type": "execute_result"
    }
   ],
   "source": [
    "type(t1['size'])"
   ]
  },
  {
   "cell_type": "code",
   "execution_count": 42,
   "metadata": {},
   "outputs": [
    {
     "data": {
      "text/plain": [
       "astropy.units.quantity.Quantity"
      ]
     },
     "execution_count": 42,
     "metadata": {},
     "output_type": "execute_result"
    }
   ],
   "source": [
    "from astropy.table import QTable\n",
    "qt1 = QTable(t1)\n",
    "type(qt1['size'])"
   ]
  },
  {
   "cell_type": "markdown",
   "metadata": {},
   "source": [
    "\n",
    "<section class=\"challenge panel panel-success\">\n",
    "<div class=\"panel-heading\">\n",
    "<h2><span class=\"fa fa-pencil\"></span> Challenge</h2>\n",
    "</div>\n",
    "\n",
    "\n",
    "<div class=\"panel-body\">\n",
    "\n",
    "<ol>\n",
    "<li>Make a table that contains three columns: <code>spectral type</code>, <code>temperature</code>, and <code>radius</code>, and incude 5 rows with fake data (or real data if you like, for example from <a href=\"http://www.atlasoftheuniverse.com/startype.html\">here</a>). Try including units on the columns that can have them.</li>\n",
    "<li>Find the mean temperature and the maximum radius</li>\n",
    "<li>Try and find out how to add and remove rows</li>\n",
    "<li>Add a new column which gives the luminosity (using $L=4\\pi R^2 \\sigma T^4$)</li>\n",
    "</ol>\n",
    "\n",
    "</div>\n",
    "\n",
    "</section>\n"
   ]
  },
  {
   "cell_type": "code",
   "execution_count": 138,
   "metadata": {},
   "outputs": [
    {
     "name": "stdout",
     "output_type": "stream",
     "text": [
      "20600.0 K\n",
      "20000.0 km\n"
     ]
    },
    {
     "data": {
      "text/html": [
       "<i>QTable length=6</i>\n",
       "<table id=\"table34658444176\" class=\"table-striped table-bordered table-condensed\">\n",
       "<thead><tr><th>spectral type</th><th>temperature</th><th>radius</th><th>luminosity</th></tr></thead>\n",
       "<thead><tr><th></th><th>K</th><th>km</th><th>W</th></tr></thead>\n",
       "<thead><tr><th>str1</th><th>float64</th><th>float64</th><th>float64</th></tr></thead>\n",
       "<tr><td>O</td><td>50000.0</td><td>20000.0</td><td>1.7813983310357992e+27</td></tr>\n",
       "<tr><td>B</td><td>20000.0</td><td>10000.0</td><td>1.1400949318629114e+25</td></tr>\n",
       "<tr><td>A</td><td>15000.0</td><td>5000.0</td><td>9.018329050868734e+23</td></tr>\n",
       "<tr><td>F</td><td>10000.0</td><td>2000.0</td><td>2.850237329657279e+22</td></tr>\n",
       "<tr><td>G</td><td>8000.0</td><td>1000.0</td><td>2.9186430255690537e+21</td></tr>\n",
       "<tr><td>K</td><td>5000.0</td><td>5000.0</td><td>1.1133739568973744e+22</td></tr>\n",
       "</table>"
      ],
      "text/plain": [
       "<QTable length=6>\n",
       "spectral type temperature  radius       luminosity      \n",
       "                   K         km             W           \n",
       "     str1       float64   float64        float64        \n",
       "------------- ----------- ------- ----------------------\n",
       "            O     50000.0 20000.0 1.7813983310357992e+27\n",
       "            B     20000.0 10000.0 1.1400949318629114e+25\n",
       "            A     15000.0  5000.0  9.018329050868734e+23\n",
       "            F     10000.0  2000.0  2.850237329657279e+22\n",
       "            G      8000.0  1000.0 2.9186430255690537e+21\n",
       "            K      5000.0  5000.0 1.1133739568973744e+22"
      ]
     },
     "execution_count": 138,
     "metadata": {},
     "output_type": "execute_result"
    }
   ],
   "source": [
    "import astropy.units as u\n",
    "import astropy.constants as const\n",
    "\n",
    "myTab = QTable()\n",
    "myTab['spectral type'] = ['O', 'B', 'A', 'F', 'G']\n",
    "myTab['temperature'] = [50000, 20000, 15000, 10000, 8000]*u.K\n",
    "myTab['radius'] = [20000, 10000, 5000, 2000, 1000]*u.km #u.R_sun\n",
    "\n",
    "print(myTab['temperature'].mean())\n",
    "print(myTab['radius'].max())\n",
    "\n",
    "#myTab.insert_row(5, ['K', 5000, 5000])\n",
    "myTab.add_row(['K', 5000*u.K, 5000*u.km])\n",
    "#myTab.remove_row(2)\n",
    "lumi = 4*np.pi*myTab['radius']**2*myTab['temperature']**4*const.sigma_sb#*u.Watt*u.K**-4*u.m**-2\n",
    "myTab['luminosity'] = lumi.decompose().to(u.Watt)\n",
    "#myTab['luminosity'].unit = u.watt\n",
    "# damit string länger wird!\n",
    "# spalte löschen und neu hinzufügen mit str2\n",
    "myTab"
   ]
  },
  {
   "cell_type": "code",
   "execution_count": null,
   "metadata": {},
   "outputs": [],
   "source": []
  },
  {
   "cell_type": "code",
   "execution_count": null,
   "metadata": {},
   "outputs": [],
   "source": []
  },
  {
   "cell_type": "code",
   "execution_count": null,
   "metadata": {},
   "outputs": [],
   "source": []
  },
  {
   "cell_type": "markdown",
   "metadata": {},
   "source": [
    "## Iterating over tables"
   ]
  },
  {
   "cell_type": "markdown",
   "metadata": {},
   "source": [
    "It is possible to iterate over rows or over columns. To iterate over rows, simply iterate over the table itself:"
   ]
  },
  {
   "cell_type": "code",
   "execution_count": 142,
   "metadata": {},
   "outputs": [
    {
     "name": "stdout",
     "output_type": "stream",
     "text": [
      "source 1\n",
      "source 2\n",
      "source 3\n"
     ]
    }
   ],
   "source": [
    "for row in t1:\n",
    "    print(row['name'])"
   ]
  },
  {
   "cell_type": "markdown",
   "metadata": {},
   "source": [
    "Rows can act like dictionaries, so you can access specific columns from a row:"
   ]
  },
  {
   "cell_type": "code",
   "execution_count": 148,
   "metadata": {},
   "outputs": [
    {
     "name": "stdout",
     "output_type": "stream",
     "text": [
      "source 2\n",
      "2.2\n",
      "5\n",
      "  name  \n",
      "--------\n",
      "source 1\n",
      "source 2\n",
      "source 3\n"
     ]
    }
   ],
   "source": [
    "for colName in t1.colnames:\n",
    "        print(t1[colName][1])\n",
    "        \n",
    "print(t1['name'])"
   ]
  },
  {
   "cell_type": "markdown",
   "metadata": {},
   "source": [
    "Iterating over columns is also easy:"
   ]
  },
  {
   "cell_type": "code",
   "execution_count": 153,
   "metadata": {},
   "outputs": [
    {
     "data": {
      "text/html": [
       "<i>Table length=3</i>\n",
       "<table id=\"table34655770552\" class=\"table-striped table-bordered table-condensed\">\n",
       "<thead><tr><th>name</th><th>flux</th><th>size</th></tr></thead>\n",
       "<thead><tr><th></th><th></th><th>cm</th></tr></thead>\n",
       "<thead><tr><th>str8</th><th>float64</th><th>int64</th></tr></thead>\n",
       "<tr><td>source 1</td><td>1.2</td><td>1</td></tr>\n",
       "<tr><td>source 2</td><td>2.2</td><td>5</td></tr>\n",
       "<tr><td>source 3</td><td>3.1</td><td>4</td></tr>\n",
       "</table>"
      ],
      "text/plain": [
       "<Table length=3>\n",
       "  name     flux   size\n",
       "                   cm \n",
       "  str8   float64 int64\n",
       "-------- ------- -----\n",
       "source 1     1.2     1\n",
       "source 2     2.2     5\n",
       "source 3     3.1     4"
      ]
     },
     "execution_count": 153,
     "metadata": {},
     "output_type": "execute_result"
    }
   ],
   "source": [
    "t1"
   ]
  },
  {
   "cell_type": "markdown",
   "metadata": {},
   "source": [
    "Accessing specific rows from a column object can also be done with the item notation:"
   ]
  },
  {
   "cell_type": "code",
   "execution_count": null,
   "metadata": {},
   "outputs": [],
   "source": []
  },
  {
   "cell_type": "markdown",
   "metadata": {},
   "source": [
    "## Joining tables"
   ]
  },
  {
   "cell_type": "code",
   "execution_count": 149,
   "metadata": {},
   "outputs": [],
   "source": [
    "from astropy.table import join"
   ]
  },
  {
   "cell_type": "code",
   "execution_count": 152,
   "metadata": {},
   "outputs": [
    {
     "data": {
      "text/html": [
       "<i>Table length=2</i>\n",
       "<table id=\"table34658452592\" class=\"table-striped table-bordered table-condensed\">\n",
       "<thead><tr><th>name</th><th>flux2</th></tr></thead>\n",
       "<thead><tr><th>str8</th><th>int64</th></tr></thead>\n",
       "<tr><td>source 1</td><td>1</td></tr>\n",
       "<tr><td>source 3</td><td>9</td></tr>\n",
       "</table>"
      ],
      "text/plain": [
       "<Table length=2>\n",
       "  name   flux2\n",
       "  str8   int64\n",
       "-------- -----\n",
       "source 1     1\n",
       "source 3     9"
      ]
     },
     "execution_count": 152,
     "metadata": {},
     "output_type": "execute_result"
    }
   ],
   "source": [
    "t2 = Table()\n",
    "t2['name'] = ['source 1', 'source 3']\n",
    "t2['flux2'] = [1,9]\n",
    "t2"
   ]
  },
  {
   "cell_type": "code",
   "execution_count": 156,
   "metadata": {},
   "outputs": [
    {
     "data": {
      "text/html": [
       "<i>Table masked=True length=3</i>\n",
       "<table id=\"table34658453936\" class=\"table-striped table-bordered table-condensed\">\n",
       "<thead><tr><th>name</th><th>flux</th><th>size</th><th>flux2</th></tr></thead>\n",
       "<thead><tr><th></th><th></th><th>cm</th><th></th></tr></thead>\n",
       "<thead><tr><th>str8</th><th>float64</th><th>int64</th><th>int64</th></tr></thead>\n",
       "<tr><td>source 1</td><td>1.2</td><td>1</td><td>1</td></tr>\n",
       "<tr><td>source 2</td><td>2.2</td><td>5</td><td>--</td></tr>\n",
       "<tr><td>source 3</td><td>3.1</td><td>4</td><td>9</td></tr>\n",
       "</table>"
      ],
      "text/plain": [
       "<Table masked=True length=3>\n",
       "  name     flux   size flux2\n",
       "                   cm       \n",
       "  str8   float64 int64 int64\n",
       "-------- ------- ----- -----\n",
       "source 1     1.2     1     1\n",
       "source 2     2.2     5    --\n",
       "source 3     3.1     4     9"
      ]
     },
     "execution_count": 156,
     "metadata": {},
     "output_type": "execute_result"
    }
   ],
   "source": [
    "t3 = join(t1, t2, join_type='outer')\n",
    "t3"
   ]
  },
  {
   "cell_type": "code",
   "execution_count": null,
   "metadata": {},
   "outputs": [],
   "source": []
  },
  {
   "cell_type": "markdown",
   "metadata": {},
   "source": [
    "## Masked tables"
   ]
  },
  {
   "cell_type": "code",
   "execution_count": 182,
   "metadata": {},
   "outputs": [
    {
     "data": {
      "text/html": [
       "<i>Table masked=True length=3</i>\n",
       "<table id=\"table34658453936\" class=\"table-striped table-bordered table-condensed\">\n",
       "<thead><tr><th>name</th><th>flux</th><th>size</th><th>flux2</th></tr></thead>\n",
       "<thead><tr><th></th><th></th><th>cm</th><th></th></tr></thead>\n",
       "<thead><tr><th>str8</th><th>float64</th><th>int64</th><th>int64</th></tr></thead>\n",
       "<tr><td>source 1</td><td>1.2</td><td>1</td><td>1</td></tr>\n",
       "<tr><td>source 2</td><td>2.2</td><td>5</td><td>1</td></tr>\n",
       "<tr><td>source 3</td><td>3.1</td><td>4</td><td>9</td></tr>\n",
       "</table>"
      ],
      "text/plain": [
       "<Table masked=True length=3>\n",
       "  name     flux   size flux2\n",
       "                   cm       \n",
       "  str8   float64 int64 int64\n",
       "-------- ------- ----- -----\n",
       "source 1     1.2     1     1\n",
       "source 2     2.2     5     1\n",
       "source 3     3.1     4     9"
      ]
     },
     "execution_count": 182,
     "metadata": {},
     "output_type": "execute_result"
    }
   ],
   "source": [
    "t3['flux2'].mask[2] = False\n",
    "t3\n",
    "#np.min(t3['flux2'])"
   ]
  },
  {
   "cell_type": "code",
   "execution_count": null,
   "metadata": {},
   "outputs": [],
   "source": []
  },
  {
   "cell_type": "markdown",
   "metadata": {},
   "source": [
    "## Slicing\n",
    "\n",
    "Tables can be sliced like Numpy arrays:"
   ]
  },
  {
   "cell_type": "code",
   "execution_count": 176,
   "metadata": {},
   "outputs": [
    {
     "data": {
      "text/plain": [
       "1.2"
      ]
     },
     "execution_count": 176,
     "metadata": {},
     "output_type": "execute_result"
    }
   ],
   "source": [
    "obs = Table()\n",
    "obs['name'] = ['M31', 'M32', 'M31', 'M40', 'M50']\n",
    "obs['mag'] = [4, 6, 8, 7, 6]\n",
    "\n",
    "t1['flux'][0]"
   ]
  },
  {
   "cell_type": "code",
   "execution_count": 189,
   "metadata": {},
   "outputs": [
    {
     "data": {
      "text/html": [
       "<i>Table length=4</i>\n",
       "<table id=\"table34659049600\" class=\"table-striped table-bordered table-condensed\">\n",
       "<thead><tr><th>name</th><th>mag</th></tr></thead>\n",
       "<thead><tr><th>str3</th><th>int64</th></tr></thead>\n",
       "<tr><td>M31</td><td>4</td></tr>\n",
       "<tr><td>M32</td><td>6</td></tr>\n",
       "<tr><td>M31</td><td>8</td></tr>\n",
       "<tr><td>M40</td><td>7</td></tr>\n",
       "</table>"
      ],
      "text/plain": [
       "<Table length=4>\n",
       "name  mag \n",
       "str3 int64\n",
       "---- -----\n",
       " M31     4\n",
       " M32     6\n",
       " M31     8\n",
       " M40     7"
      ]
     },
     "execution_count": 189,
     "metadata": {},
     "output_type": "execute_result"
    }
   ],
   "source": [
    "obs[0:4]"
   ]
  },
  {
   "cell_type": "code",
   "execution_count": 192,
   "metadata": {},
   "outputs": [
    {
     "data": {
      "text/html": [
       "<i>Table length=2</i>\n",
       "<table id=\"table34659051616\" class=\"table-striped table-bordered table-condensed\">\n",
       "<thead><tr><th>name</th><th>mag</th></tr></thead>\n",
       "<thead><tr><th>str3</th><th>int64</th></tr></thead>\n",
       "<tr><td>M31</td><td>8</td></tr>\n",
       "<tr><td>M40</td><td>7</td></tr>\n",
       "</table>"
      ],
      "text/plain": [
       "<Table length=2>\n",
       "name  mag \n",
       "str3 int64\n",
       "---- -----\n",
       " M31     8\n",
       " M40     7"
      ]
     },
     "execution_count": 192,
     "metadata": {},
     "output_type": "execute_result"
    }
   ],
   "source": [
    "obs[obs['mag'] > 6]"
   ]
  },
  {
   "cell_type": "code",
   "execution_count": 195,
   "metadata": {},
   "outputs": [
    {
     "data": {
      "text/html": [
       "<i>Table length=5</i>\n",
       "<table id=\"table34659052792\" class=\"table-striped table-bordered table-condensed\">\n",
       "<thead><tr><th>mag</th><th>name</th></tr></thead>\n",
       "<thead><tr><th>int64</th><th>str3</th></tr></thead>\n",
       "<tr><td>4</td><td>M31</td></tr>\n",
       "<tr><td>6</td><td>M32</td></tr>\n",
       "<tr><td>8</td><td>M31</td></tr>\n",
       "<tr><td>7</td><td>M40</td></tr>\n",
       "<tr><td>6</td><td>M50</td></tr>\n",
       "</table>"
      ],
      "text/plain": [
       "<Table length=5>\n",
       " mag  name\n",
       "int64 str3\n",
       "----- ----\n",
       "    4  M31\n",
       "    6  M32\n",
       "    8  M31\n",
       "    7  M40\n",
       "    6  M50"
      ]
     },
     "execution_count": 195,
     "metadata": {},
     "output_type": "execute_result"
    }
   ],
   "source": [
    "obs['mag', 'name']"
   ]
  },
  {
   "cell_type": "markdown",
   "metadata": {},
   "source": [
    "\n",
    "<section class=\"challenge panel panel-success\">\n",
    "<div class=\"panel-heading\">\n",
    "<h2><span class=\"fa fa-pencil\"></span> Challenge</h2>\n",
    "</div>\n",
    "\n",
    "\n",
    "<div class=\"panel-body\">\n",
    "\n",
    "<p>Starting from the <code>obs</code> table:</p>\n",
    "<ol>\n",
    "<li>Make a new table that shows every other row, starting with the second row? (that is, the second, fourth, sixth, etc. rows).</li>\n",
    "<li>Make a new table the only contains rows where <code>name</code> is <code>M31</code></li>\n",
    "</ol>\n",
    "\n",
    "</div>\n",
    "\n",
    "</section>\n"
   ]
  },
  {
   "cell_type": "code",
   "execution_count": 201,
   "metadata": {},
   "outputs": [
    {
     "data": {
      "text/html": [
       "<i>Table length=2</i>\n",
       "<table id=\"table34659049656\" class=\"table-striped table-bordered table-condensed\">\n",
       "<thead><tr><th>name</th><th>mag</th></tr></thead>\n",
       "<thead><tr><th>str3</th><th>int64</th></tr></thead>\n",
       "<tr><td>M32</td><td>6</td></tr>\n",
       "<tr><td>M40</td><td>7</td></tr>\n",
       "</table>"
      ],
      "text/plain": [
       "<Table length=2>\n",
       "name  mag \n",
       "str3 int64\n",
       "---- -----\n",
       " M32     6\n",
       " M40     7"
      ]
     },
     "execution_count": 201,
     "metadata": {},
     "output_type": "execute_result"
    }
   ],
   "source": [
    "obs[1::2]"
   ]
  },
  {
   "cell_type": "code",
   "execution_count": 198,
   "metadata": {},
   "outputs": [
    {
     "data": {
      "text/html": [
       "<i>Table length=2</i>\n",
       "<table id=\"table34659052568\" class=\"table-striped table-bordered table-condensed\">\n",
       "<thead><tr><th>name</th><th>mag</th></tr></thead>\n",
       "<thead><tr><th>str3</th><th>int64</th></tr></thead>\n",
       "<tr><td>M31</td><td>4</td></tr>\n",
       "<tr><td>M31</td><td>8</td></tr>\n",
       "</table>"
      ],
      "text/plain": [
       "<Table length=2>\n",
       "name  mag \n",
       "str3 int64\n",
       "---- -----\n",
       " M31     4\n",
       " M31     8"
      ]
     },
     "execution_count": 198,
     "metadata": {},
     "output_type": "execute_result"
    }
   ],
   "source": [
    "obs[obs['name'] == 'M31']"
   ]
  },
  {
   "cell_type": "markdown",
   "metadata": {},
   "source": [
    "## Grouping and Aggregation"
   ]
  },
  {
   "cell_type": "code",
   "execution_count": 207,
   "metadata": {},
   "outputs": [
    {
     "name": "stdout",
     "output_type": "stream",
     "text": [
      "name mag\n",
      "---- ---\n",
      " M31   4\n",
      " M31   8\n",
      "\n",
      "name mag\n",
      "---- ---\n",
      " M32   6\n",
      "\n",
      "name mag\n",
      "---- ---\n",
      " M40   7\n",
      "\n",
      "name mag\n",
      "---- ---\n",
      " M50   6\n",
      "\n"
     ]
    }
   ],
   "source": [
    "obs_by_name = obs.group_by('name')\n",
    "for group in obs_by_name.groups:\n",
    "    print(group)\n",
    "    print('')"
   ]
  },
  {
   "cell_type": "code",
   "execution_count": 210,
   "metadata": {},
   "outputs": [
    {
     "data": {
      "text/html": [
       "<i>Table length=4</i>\n",
       "<table id=\"table34658395696\" class=\"table-striped table-bordered table-condensed\">\n",
       "<thead><tr><th>name</th><th>mag</th></tr></thead>\n",
       "<thead><tr><th>str3</th><th>float64</th></tr></thead>\n",
       "<tr><td>M31</td><td>6.0</td></tr>\n",
       "<tr><td>M32</td><td>6.0</td></tr>\n",
       "<tr><td>M40</td><td>7.0</td></tr>\n",
       "<tr><td>M50</td><td>6.0</td></tr>\n",
       "</table>"
      ],
      "text/plain": [
       "<Table length=4>\n",
       "name   mag  \n",
       "str3 float64\n",
       "---- -------\n",
       " M31     6.0\n",
       " M32     6.0\n",
       " M40     7.0\n",
       " M50     6.0"
      ]
     },
     "execution_count": 210,
     "metadata": {},
     "output_type": "execute_result"
    }
   ],
   "source": [
    "obs_by_name.groups.aggregate(np.mean)"
   ]
  },
  {
   "cell_type": "code",
   "execution_count": null,
   "metadata": {},
   "outputs": [],
   "source": []
  },
  {
   "cell_type": "code",
   "execution_count": null,
   "metadata": {},
   "outputs": [],
   "source": []
  },
  {
   "cell_type": "markdown",
   "metadata": {},
   "source": [
    "## Writing data"
   ]
  },
  {
   "cell_type": "code",
   "execution_count": 211,
   "metadata": {},
   "outputs": [],
   "source": [
    "obs.write('obstable.fits')"
   ]
  },
  {
   "cell_type": "code",
   "execution_count": 222,
   "metadata": {},
   "outputs": [
    {
     "ename": "OSError",
     "evalue": "File exists: obstable.vot",
     "output_type": "error",
     "traceback": [
      "\u001b[0;31m---------------------------------------------------------------------------\u001b[0m",
      "\u001b[0;31mOSError\u001b[0m                                   Traceback (most recent call last)",
      "\u001b[0;32m<ipython-input-222-096d451f38f4>\u001b[0m in \u001b[0;36m<module>\u001b[0;34m()\u001b[0m\n\u001b[0;32m----> 1\u001b[0;31m \u001b[0mobs\u001b[0m\u001b[0;34m.\u001b[0m\u001b[0mwrite\u001b[0m\u001b[0;34m(\u001b[0m\u001b[0;34m'obstable.vot'\u001b[0m\u001b[0;34m,\u001b[0m \u001b[0mformat\u001b[0m\u001b[0;34m=\u001b[0m\u001b[0;34m'votable'\u001b[0m\u001b[0;34m)\u001b[0m\u001b[0;34m\u001b[0m\u001b[0m\n\u001b[0m",
      "\u001b[0;32m~/anaconda3/envs/stfc-summer-school/lib/python3.6/site-packages/astropy/table/table.py\u001b[0m in \u001b[0;36mwrite\u001b[0;34m(self, *args, **kwargs)\u001b[0m\n\u001b[1;32m   2560\u001b[0m         \u001b[0mpassed\u001b[0m \u001b[0mthrough\u001b[0m \u001b[0mto\u001b[0m \u001b[0mthe\u001b[0m \u001b[0munderlying\u001b[0m \u001b[0mdata\u001b[0m \u001b[0mreader\u001b[0m \u001b[0;34m(\u001b[0m\u001b[0me\u001b[0m\u001b[0;34m.\u001b[0m\u001b[0mg\u001b[0m\u001b[0;34m.\u001b[0m\u001b[0;31m \u001b[0m\u001b[0;31m`\u001b[0m\u001b[0;34m~\u001b[0m\u001b[0mastropy\u001b[0m\u001b[0;34m.\u001b[0m\u001b[0mio\u001b[0m\u001b[0;34m.\u001b[0m\u001b[0mascii\u001b[0m\u001b[0;34m.\u001b[0m\u001b[0mwrite\u001b[0m\u001b[0;31m`\u001b[0m\u001b[0;34m)\u001b[0m\u001b[0;34m.\u001b[0m\u001b[0;34m\u001b[0m\u001b[0m\n\u001b[1;32m   2561\u001b[0m         \"\"\"\n\u001b[0;32m-> 2562\u001b[0;31m         \u001b[0mio_registry\u001b[0m\u001b[0;34m.\u001b[0m\u001b[0mwrite\u001b[0m\u001b[0;34m(\u001b[0m\u001b[0mself\u001b[0m\u001b[0;34m,\u001b[0m \u001b[0;34m*\u001b[0m\u001b[0margs\u001b[0m\u001b[0;34m,\u001b[0m \u001b[0;34m**\u001b[0m\u001b[0mkwargs\u001b[0m\u001b[0;34m)\u001b[0m\u001b[0;34m\u001b[0m\u001b[0m\n\u001b[0m\u001b[1;32m   2563\u001b[0m \u001b[0;34m\u001b[0m\u001b[0m\n\u001b[1;32m   2564\u001b[0m     \u001b[0;32mdef\u001b[0m \u001b[0mcopy\u001b[0m\u001b[0;34m(\u001b[0m\u001b[0mself\u001b[0m\u001b[0;34m,\u001b[0m \u001b[0mcopy_data\u001b[0m\u001b[0;34m=\u001b[0m\u001b[0;32mTrue\u001b[0m\u001b[0;34m)\u001b[0m\u001b[0;34m:\u001b[0m\u001b[0;34m\u001b[0m\u001b[0m\n",
      "\u001b[0;32m~/anaconda3/envs/stfc-summer-school/lib/python3.6/site-packages/astropy/io/registry.py\u001b[0m in \u001b[0;36mwrite\u001b[0;34m(data, format, *args, **kwargs)\u001b[0m\n\u001b[1;32m    558\u001b[0m \u001b[0;34m\u001b[0m\u001b[0m\n\u001b[1;32m    559\u001b[0m     \u001b[0mwriter\u001b[0m \u001b[0;34m=\u001b[0m \u001b[0mget_writer\u001b[0m\u001b[0;34m(\u001b[0m\u001b[0mformat\u001b[0m\u001b[0;34m,\u001b[0m \u001b[0mdata\u001b[0m\u001b[0;34m.\u001b[0m\u001b[0m__class__\u001b[0m\u001b[0;34m)\u001b[0m\u001b[0;34m\u001b[0m\u001b[0m\n\u001b[0;32m--> 560\u001b[0;31m     \u001b[0mwriter\u001b[0m\u001b[0;34m(\u001b[0m\u001b[0mdata\u001b[0m\u001b[0;34m,\u001b[0m \u001b[0;34m*\u001b[0m\u001b[0margs\u001b[0m\u001b[0;34m,\u001b[0m \u001b[0;34m**\u001b[0m\u001b[0mkwargs\u001b[0m\u001b[0;34m)\u001b[0m\u001b[0;34m\u001b[0m\u001b[0m\n\u001b[0m\u001b[1;32m    561\u001b[0m \u001b[0;34m\u001b[0m\u001b[0m\n\u001b[1;32m    562\u001b[0m \u001b[0;34m\u001b[0m\u001b[0m\n",
      "\u001b[0;32m~/anaconda3/envs/stfc-summer-school/lib/python3.6/site-packages/astropy/io/votable/connect.py\u001b[0m in \u001b[0;36mwrite_table_votable\u001b[0;34m(input, output, table_id, overwrite, tabledata_format)\u001b[0m\n\u001b[1;32m    152\u001b[0m             \u001b[0mos\u001b[0m\u001b[0;34m.\u001b[0m\u001b[0mremove\u001b[0m\u001b[0;34m(\u001b[0m\u001b[0moutput\u001b[0m\u001b[0;34m)\u001b[0m\u001b[0;34m\u001b[0m\u001b[0m\n\u001b[1;32m    153\u001b[0m         \u001b[0;32melse\u001b[0m\u001b[0;34m:\u001b[0m\u001b[0;34m\u001b[0m\u001b[0m\n\u001b[0;32m--> 154\u001b[0;31m             \u001b[0;32mraise\u001b[0m \u001b[0mOSError\u001b[0m\u001b[0;34m(\u001b[0m\u001b[0;34m\"File exists: {0}\"\u001b[0m\u001b[0;34m.\u001b[0m\u001b[0mformat\u001b[0m\u001b[0;34m(\u001b[0m\u001b[0moutput\u001b[0m\u001b[0;34m)\u001b[0m\u001b[0;34m)\u001b[0m\u001b[0;34m\u001b[0m\u001b[0m\n\u001b[0m\u001b[1;32m    155\u001b[0m \u001b[0;34m\u001b[0m\u001b[0m\n\u001b[1;32m    156\u001b[0m     \u001b[0;31m# Create a new VOTable file\u001b[0m\u001b[0;34m\u001b[0m\u001b[0;34m\u001b[0m\u001b[0m\n",
      "\u001b[0;31mOSError\u001b[0m: File exists: obstable.vot"
     ]
    }
   ],
   "source": [
    "obs.write('obstable.vot', format='votable')"
   ]
  },
  {
   "cell_type": "code",
   "execution_count": 223,
   "metadata": {},
   "outputs": [
    {
     "name": "stdout",
     "output_type": "stream",
     "text": [
      "<?xml version=\"1.0\" encoding=\"utf-8\"?>\r\n",
      "<!-- Produced with astropy.io.votable version 3.0.4\r\n",
      "     http://www.astropy.org/ -->\r\n",
      "<VOTABLE version=\"1.3\" xmlns=\"http://www.ivoa.net/xml/VOTable/v1.3\" xmlns:xsi=\"http://www.w3.org/2001/XMLSchema-instance\" xsi:noNamespaceSchemaLocation=\"http://www.ivoa.net/xml/VOTable/v1.3\">\r\n",
      " <RESOURCE type=\"results\">\r\n",
      "  <TABLE>\r\n",
      "   <FIELD ID=\"name\" arraysize=\"3\" datatype=\"unicodeChar\" name=\"name\"/>\r\n",
      "   <FIELD ID=\"mag\" datatype=\"long\" name=\"mag\"/>\r\n",
      "   <DATA>\r\n",
      "    <TABLEDATA>\r\n",
      "     <TR>\r\n",
      "      <TD>M31</TD>\r\n",
      "      <TD>4</TD>\r\n",
      "     </TR>\r\n",
      "     <TR>\r\n",
      "      <TD>M32</TD>\r\n",
      "      <TD>6</TD>\r\n",
      "     </TR>\r\n",
      "     <TR>\r\n",
      "      <TD>M31</TD>\r\n",
      "      <TD>8</TD>\r\n",
      "     </TR>\r\n",
      "     <TR>\r\n",
      "      <TD>M40</TD>\r\n",
      "      <TD>7</TD>\r\n",
      "     </TR>\r\n",
      "     <TR>\r\n",
      "      <TD>M50</TD>\r\n",
      "      <TD>6</TD>\r\n",
      "     </TR>\r\n",
      "    </TABLEDATA>\r\n",
      "   </DATA>\r\n",
      "  </TABLE>\r\n",
      " </RESOURCE>\r\n",
      "</VOTABLE>\r\n"
     ]
    }
   ],
   "source": [
    "!cat obstable.vot"
   ]
  },
  {
   "cell_type": "markdown",
   "metadata": {},
   "source": [
    "## Reading data"
   ]
  },
  {
   "cell_type": "code",
   "execution_count": 226,
   "metadata": {},
   "outputs": [
    {
     "data": {
      "text/html": [
       "<i>Table masked=True length=929</i>\n",
       "<table id=\"table34660505360\" class=\"table-striped table-bordered table-condensed\">\n",
       "<thead><tr><th>ra</th><th>dec</th><th>clon</th><th>clat</th><th>err_maj</th><th>err_min</th><th>err_ang</th><th>designation</th><th>j_m</th><th>j_cmsig</th><th>j_msigcom</th><th>j_snr</th><th>h_m</th><th>h_cmsig</th><th>h_msigcom</th><th>h_snr</th><th>k_m</th><th>k_cmsig</th><th>k_msigcom</th><th>k_snr</th><th>ph_qual</th><th>rd_flg</th><th>bl_flg</th><th>cc_flg</th><th>ndet</th><th>gal_contam</th><th>mp_flg</th><th>dist</th><th>angle</th><th>j_h</th><th>h_k</th><th>j_k</th></tr></thead>\n",
       "<thead><tr><th>deg</th><th>deg</th><th></th><th></th><th>arcsec</th><th>arcsec</th><th>deg</th><th></th><th>mag</th><th>mag</th><th>mag</th><th></th><th>mag</th><th>mag</th><th>mag</th><th></th><th>mag</th><th>mag</th><th>mag</th><th></th><th></th><th></th><th></th><th></th><th></th><th></th><th></th><th></th><th></th><th></th><th></th><th></th></tr></thead>\n",
       "<thead><tr><th>float64</th><th>float64</th><th>str12</th><th>str13</th><th>float64</th><th>float64</th><th>int64</th><th>str16</th><th>float64</th><th>float64</th><th>float64</th><th>float64</th><th>float64</th><th>float64</th><th>float64</th><th>float64</th><th>float64</th><th>float64</th><th>float64</th><th>float64</th><th>str3</th><th>str3</th><th>str3</th><th>str3</th><th>str6</th><th>int64</th><th>int64</th><th>float64</th><th>float64</th><th>float64</th><th>float64</th><th>float64</th></tr></thead>\n",
       "<tr><td>274.429506</td><td>-13.870547</td><td>18h17m43.08s</td><td>-13d52m13.97s</td><td>0.08</td><td>0.08</td><td>45</td><td>18174308-1352139</td><td>16.305</td><td>0.142</td><td>0.143</td><td>6.7</td><td>14.048</td><td>0.107</td><td>0.108</td><td>13.6</td><td>13.257</td><td>0.066</td><td>0.066</td><td>16.5</td><td>CAA</td><td>222</td><td>111</td><td>0ss</td><td>066655</td><td>0</td><td>0</td><td>975.080151</td><td>256.448</td><td>2.257</td><td>0.791</td><td>3.048</td></tr>\n",
       "<tr><td>274.423821</td><td>-13.86974</td><td>18h17m41.72s</td><td>-13d52m11.06s</td><td>0.06</td><td>0.06</td><td>90</td><td>18174171-1352110</td><td>14.802</td><td>0.058</td><td>0.059</td><td>26.7</td><td>12.635</td><td>0.059</td><td>0.06</td><td>50.1</td><td>11.768</td><td>0.045</td><td>0.046</td><td>65.2</td><td>AAA</td><td>222</td><td>111</td><td>0ss</td><td>666666</td><td>0</td><td>0</td><td>993.752042</td><td>256.878</td><td>2.167</td><td>0.867</td><td>3.034</td></tr>\n",
       "<tr><td>274.424587</td><td>-13.739629</td><td>18h17m41.90s</td><td>-13d44m22.66s</td><td>0.08</td><td>0.08</td><td>45</td><td>18174190-1344226</td><td>16.328</td><td>--</td><td>--</td><td>--</td><td>14.345</td><td>0.059</td><td>0.06</td><td>10.4</td><td>13.405</td><td>0.046</td><td>0.047</td><td>14.4</td><td>UAA</td><td>022</td><td>011</td><td>0cc</td><td>003666</td><td>0</td><td>0</td><td>995.726698</td><td>284.113</td><td>--</td><td>0.94</td><td>--</td></tr>\n",
       "<tr><td>274.433933</td><td>-13.769502</td><td>18h17m44.14s</td><td>-13d46m10.21s</td><td>0.08</td><td>0.08</td><td>45</td><td>18174414-1346102</td><td>16.281</td><td>0.098</td><td>0.099</td><td>6.8</td><td>14.057</td><td>0.035</td><td>0.036</td><td>13.5</td><td>12.956</td><td>0.032</td><td>0.033</td><td>21.8</td><td>CAA</td><td>222</td><td>111</td><td>000</td><td>065566</td><td>0</td><td>0</td><td>942.627418</td><td>278.252</td><td>2.224</td><td>1.101</td><td>3.325</td></tr>\n",
       "<tr><td>274.437013</td><td>-13.885698</td><td>18h17m44.88s</td><td>-13d53m08.51s</td><td>0.09</td><td>0.09</td><td>45</td><td>18174488-1353085</td><td>15.171</td><td>--</td><td>--</td><td>--</td><td>14.412</td><td>0.152</td><td>0.152</td><td>9.8</td><td>13.742</td><td>0.095</td><td>0.095</td><td>10.6</td><td>UBA</td><td>622</td><td>022</td><td>0cc</td><td>005566</td><td>0</td><td>0</td><td>964.105389</td><td>252.93</td><td>--</td><td>0.67</td><td>--</td></tr>\n",
       "<tr><td>274.433996</td><td>-13.752446</td><td>18h17m44.16s</td><td>-13d45m08.81s</td><td>0.08</td><td>0.08</td><td>90</td><td>18174415-1345088</td><td>16.54</td><td>--</td><td>--</td><td>--</td><td>14.519</td><td>0.083</td><td>0.083</td><td>8.8</td><td>13.604</td><td>0.043</td><td>0.044</td><td>12.0</td><td>UBA</td><td>022</td><td>011</td><td>0cc</td><td>005666</td><td>0</td><td>0</td><td>953.230532</td><td>281.908</td><td>--</td><td>0.915</td><td>--</td></tr>\n",
       "<tr><td>274.418138</td><td>-13.77215</td><td>18h17m40.35s</td><td>-13d46m19.74s</td><td>0.08</td><td>0.08</td><td>90</td><td>18174035-1346197</td><td>17.98</td><td>--</td><td>--</td><td>--</td><td>14.61</td><td>0.043</td><td>0.044</td><td>8.1</td><td>13.456</td><td>0.056</td><td>0.057</td><td>13.8</td><td>UBA</td><td>022</td><td>011</td><td>000</td><td>001645</td><td>0</td><td>0</td><td>996.047248</td><td>277.25</td><td>--</td><td>1.154</td><td>--</td></tr>\n",
       "<tr><td>274.433695</td><td>-13.899049</td><td>18h17m44.09s</td><td>-13d53m56.58s</td><td>0.06</td><td>0.06</td><td>90</td><td>18174408-1353565</td><td>13.011</td><td>0.021</td><td>0.024</td><td>139.0</td><td>10.917</td><td>0.02</td><td>0.021</td><td>243.8</td><td>10.013</td><td>0.017</td><td>0.019</td><td>328.3</td><td>AAA</td><td>222</td><td>111</td><td>000</td><td>666666</td><td>0</td><td>0</td><td>990.166399</td><td>250.466</td><td>2.094</td><td>0.904</td><td>2.998</td></tr>\n",
       "<tr><td>274.425482</td><td>-13.77149</td><td>18h17m42.12s</td><td>-13d46m17.36s</td><td>0.08</td><td>0.08</td><td>135</td><td>18174211-1346173</td><td>16.086</td><td>--</td><td>--</td><td>--</td><td>13.709</td><td>0.065</td><td>0.066</td><td>18.6</td><td>12.503</td><td>0.044</td><td>0.045</td><td>33.1</td><td>UAA</td><td>622</td><td>012</td><td>00c</td><td>005555</td><td>0</td><td>0</td><td>970.896919</td><td>277.582</td><td>--</td><td>1.206</td><td>--</td></tr>\n",
       "<tr><td>...</td><td>...</td><td>...</td><td>...</td><td>...</td><td>...</td><td>...</td><td>...</td><td>...</td><td>...</td><td>...</td><td>...</td><td>...</td><td>...</td><td>...</td><td>...</td><td>...</td><td>...</td><td>...</td><td>...</td><td>...</td><td>...</td><td>...</td><td>...</td><td>...</td><td>...</td><td>...</td><td>...</td><td>...</td><td>...</td><td>...</td><td>...</td></tr>\n",
       "<tr><td>274.81801</td><td>-14.001245</td><td>18h19m16.32s</td><td>-14d00m04.48s</td><td>0.18</td><td>0.16</td><td>1</td><td>18191632-1400044</td><td>16.24</td><td>0.113</td><td>0.113</td><td>5.6</td><td>15.531</td><td>0.164</td><td>0.164</td><td>2.5</td><td>15.252</td><td>--</td><td>--</td><td>--</td><td>CDU</td><td>220</td><td>110</td><td>000</td><td>060600</td><td>0</td><td>0</td><td>809.817146</td><td>149.61</td><td>0.709</td><td>--</td><td>--</td></tr>\n",
       "<tr><td>274.822709</td><td>-14.037254</td><td>18h19m17.45s</td><td>-14d02m14.11s</td><td>0.07</td><td>0.07</td><td>45</td><td>18191745-1402141</td><td>15.999</td><td>0.097</td><td>0.098</td><td>7.0</td><td>14.009</td><td>0.032</td><td>0.033</td><td>10.0</td><td>13.077</td><td>0.035</td><td>0.036</td><td>16.4</td><td>CAA</td><td>222</td><td>111</td><td>000</td><td>062656</td><td>0</td><td>0</td><td>931.339773</td><td>152.779</td><td>1.99</td><td>0.932</td><td>2.922</td></tr>\n",
       "<tr><td>274.880758</td><td>-13.99956</td><td>18h19m31.38s</td><td>-13d59m58.42s</td><td>0.06</td><td>0.06</td><td>90</td><td>18193138-1359584</td><td>14.163</td><td>0.035</td><td>0.037</td><td>37.8</td><td>11.179</td><td>0.02</td><td>0.021</td><td>135.6</td><td>9.765</td><td>0.017</td><td>0.019</td><td>347.1</td><td>AAA</td><td>222</td><td>111</td><td>000</td><td>556666</td><td>0</td><td>0</td><td>935.512452</td><td>137.762</td><td>2.984</td><td>1.414</td><td>4.398</td></tr>\n",
       "<tr><td>274.652526</td><td>-14.055106</td><td>18h18m36.61s</td><td>-14d03m18.38s</td><td>0.06</td><td>0.06</td><td>90</td><td>18183660-1403183</td><td>15.035</td><td>0.052</td><td>0.054</td><td>19.4</td><td>13.099</td><td>0.04</td><td>0.041</td><td>27.5</td><td>12.254</td><td>0.041</td><td>0.041</td><td>41.7</td><td>AAA</td><td>222</td><td>111</td><td>c00</td><td>566666</td><td>0</td><td>0</td><td>908.109808</td><td>190.682</td><td>1.936</td><td>0.845</td><td>2.781</td></tr>\n",
       "<tr><td>274.760586</td><td>-13.999927</td><td>18h19m02.54s</td><td>-13d59m59.74s</td><td>0.08</td><td>0.08</td><td>90</td><td>18190254-1359597</td><td>16.329</td><td>0.122</td><td>0.123</td><td>5.5</td><td>14.488</td><td>0.067</td><td>0.067</td><td>6.4</td><td>13.617</td><td>0.051</td><td>0.052</td><td>11.1</td><td>CCA</td><td>222</td><td>111</td><td>000</td><td>060616</td><td>0</td><td>0</td><td>724.557553</td><td>163.227</td><td>1.841</td><td>0.871</td><td>2.712</td></tr>\n",
       "<tr><td>274.831132</td><td>-14.020027</td><td>18h19m19.47s</td><td>-14d01m12.10s</td><td>0.08</td><td>0.08</td><td>45</td><td>18191947-1401120</td><td>16.203</td><td>--</td><td>--</td><td>--</td><td>13.238</td><td>0.02</td><td>0.021</td><td>20.4</td><td>12.016</td><td>0.023</td><td>0.024</td><td>43.6</td><td>UAA</td><td>022</td><td>011</td><td>000</td><td>006666</td><td>0</td><td>0</td><td>891.347132</td><td>149.27</td><td>--</td><td>1.222</td><td>--</td></tr>\n",
       "<tr><td>274.972435</td><td>-13.760374</td><td>18h19m53.38s</td><td>-13d45m37.35s</td><td>0.12</td><td>0.11</td><td>10</td><td>18195338-1345373</td><td>17.472</td><td>--</td><td>--</td><td>--</td><td>16.755</td><td>--</td><td>--</td><td>--</td><td>14.413</td><td>0.084</td><td>0.084</td><td>4.8</td><td>UUD</td><td>002</td><td>001</td><td>000</td><td>000006</td><td>0</td><td>0</td><td>964.828933</td><td>79.963</td><td>--</td><td>--</td><td>--</td></tr>\n",
       "<tr><td>274.870009</td><td>-13.817775</td><td>18h19m28.80s</td><td>-13d49m03.99s</td><td>0.08</td><td>0.08</td><td>45</td><td>18192880-1349039</td><td>16.933</td><td>--</td><td>--</td><td>--</td><td>14.514</td><td>0.064</td><td>0.065</td><td>6.3</td><td>12.957</td><td>0.041</td><td>0.041</td><td>18.4</td><td>UCA</td><td>022</td><td>011</td><td>000</td><td>002666</td><td>0</td><td>0</td><td>592.998058</td><td>93.69</td><td>--</td><td>1.557</td><td>--</td></tr>\n",
       "<tr><td>274.735323</td><td>-13.941575</td><td>18h18m56.48s</td><td>-13d56m29.67s</td><td>0.14</td><td>0.14</td><td>45</td><td>18185647-1356296</td><td>16.643</td><td>--</td><td>--</td><td>--</td><td>14.88</td><td>--</td><td>--</td><td>--</td><td>14.291</td><td>0.116</td><td>0.117</td><td>6.0</td><td>UUC</td><td>002</td><td>001</td><td>000</td><td>000004</td><td>0</td><td>0</td><td>498.524438</td><td>165.968</td><td>--</td><td>--</td><td>--</td></tr>\n",
       "<tr><td>274.866294</td><td>-13.841778</td><td>18h19m27.91s</td><td>-13d50m30.40s</td><td>0.08</td><td>0.08</td><td>45</td><td>18192791-1350304</td><td>15.615</td><td>--</td><td>--</td><td>--</td><td>13.911</td><td>0.075</td><td>0.075</td><td>10.9</td><td>12.765</td><td>0.134</td><td>0.134</td><td>21.9</td><td>UAE</td><td>022</td><td>011</td><td>0cc</td><td>005545</td><td>0</td><td>0</td><td>591.97725</td><td>102.147</td><td>--</td><td>1.146</td><td>--</td></tr>\n",
       "</table>"
      ],
      "text/plain": [
       "<Table masked=True length=929>\n",
       "    ra        dec         clon          clat     ...   j_h     h_k     j_k  \n",
       "   deg        deg                                ...                        \n",
       " float64    float64      str12         str13     ... float64 float64 float64\n",
       "---------- ---------- ------------ ------------- ... ------- ------- -------\n",
       "274.429506 -13.870547 18h17m43.08s -13d52m13.97s ...   2.257   0.791   3.048\n",
       "274.423821  -13.86974 18h17m41.72s -13d52m11.06s ...   2.167   0.867   3.034\n",
       "274.424587 -13.739629 18h17m41.90s -13d44m22.66s ...      --    0.94      --\n",
       "274.433933 -13.769502 18h17m44.14s -13d46m10.21s ...   2.224   1.101   3.325\n",
       "274.437013 -13.885698 18h17m44.88s -13d53m08.51s ...      --    0.67      --\n",
       "274.433996 -13.752446 18h17m44.16s -13d45m08.81s ...      --   0.915      --\n",
       "274.418138  -13.77215 18h17m40.35s -13d46m19.74s ...      --   1.154      --\n",
       "274.433695 -13.899049 18h17m44.09s -13d53m56.58s ...   2.094   0.904   2.998\n",
       "274.425482  -13.77149 18h17m42.12s -13d46m17.36s ...      --   1.206      --\n",
       "       ...        ...          ...           ... ...     ...     ...     ...\n",
       " 274.81801 -14.001245 18h19m16.32s -14d00m04.48s ...   0.709      --      --\n",
       "274.822709 -14.037254 18h19m17.45s -14d02m14.11s ...    1.99   0.932   2.922\n",
       "274.880758  -13.99956 18h19m31.38s -13d59m58.42s ...   2.984   1.414   4.398\n",
       "274.652526 -14.055106 18h18m36.61s -14d03m18.38s ...   1.936   0.845   2.781\n",
       "274.760586 -13.999927 18h19m02.54s -13d59m59.74s ...   1.841   0.871   2.712\n",
       "274.831132 -14.020027 18h19m19.47s -14d01m12.10s ...      --   1.222      --\n",
       "274.972435 -13.760374 18h19m53.38s -13d45m37.35s ...      --      --      --\n",
       "274.870009 -13.817775 18h19m28.80s -13d49m03.99s ...      --   1.557      --\n",
       "274.735323 -13.941575 18h18m56.48s -13d56m29.67s ...      --      --      --\n",
       "274.866294 -13.841778 18h19m27.91s -13d50m30.40s ...      --   1.146      --"
      ]
     },
     "execution_count": 226,
     "metadata": {},
     "output_type": "execute_result"
    }
   ],
   "source": [
    "t4=Table.read('2mass.tbl', format='ascii.ipac')\n",
    "t4"
   ]
  },
  {
   "cell_type": "code",
   "execution_count": null,
   "metadata": {},
   "outputs": [],
   "source": []
  },
  {
   "cell_type": "code",
   "execution_count": null,
   "metadata": {},
   "outputs": [],
   "source": []
  },
  {
   "cell_type": "markdown",
   "metadata": {},
   "source": [
    "\n",
    "<section class=\"challenge panel panel-success\">\n",
    "<div class=\"panel-heading\">\n",
    "<h2><span class=\"fa fa-pencil\"></span> Challenge</h2>\n",
    "</div>\n",
    "\n",
    "\n",
    "<div class=\"panel-body\">\n",
    "\n",
    "<p>Using the <code>t4</code> table above:</p>\n",
    "<ol>\n",
    "<li>\n",
    "<p>Make a plot that shows <code>j_m</code>-<code>h_m</code> on the x-axis, and <code>h_m</code>-<code>k_m</code> on the y-axis</p>\n",
    "</li>\n",
    "<li>\n",
    "<p>Make a new table that contains the subset of rows where the <code>j_snr</code>, <code>h_snr</code>, and <code>k_snr</code> columns, which give the signal-to-noise-ratio in the J, H, and K band, are greater than 10, and try and show these points in red in the plot you just made.</p>\n",
    "</li>\n",
    "<li>\n",
    "<p>Make a new table (based on the full table) that contains only the RA, Dec, and the <code>j_m</code>, <code>h_m</code> and <code>k_m</code> columns, then try and write out this catalog into a format that you can read into another software package. For example, try and write out the catalog into CSV format, then read it into a spreadsheet software package (e.g. Excel, Google Docs, Numbers, OpenOffice). You may run into an issue at this point - if so, take a look at https://github.com/astropy/astropy/issues/7357 to see how to fix it.</p>\n",
    "</li>\n",
    "</ol>\n",
    "\n",
    "</div>\n",
    "\n",
    "</section>\n"
   ]
  },
  {
   "cell_type": "code",
   "execution_count": null,
   "metadata": {},
   "outputs": [],
   "source": []
  },
  {
   "cell_type": "code",
   "execution_count": null,
   "metadata": {},
   "outputs": [],
   "source": []
  },
  {
   "cell_type": "code",
   "execution_count": null,
   "metadata": {},
   "outputs": [],
   "source": []
  },
  {
   "cell_type": "code",
   "execution_count": null,
   "metadata": {},
   "outputs": [],
   "source": []
  },
  {
   "cell_type": "code",
   "execution_count": null,
   "metadata": {},
   "outputs": [],
   "source": []
  }
 ],
 "metadata": {
  "kernelspec": {
   "display_name": "Python 3",
   "language": "python",
   "name": "python3"
  },
  "language_info": {
   "codemirror_mode": {
    "name": "ipython",
    "version": 3
   },
   "file_extension": ".py",
   "mimetype": "text/x-python",
   "name": "python",
   "nbconvert_exporter": "python",
   "pygments_lexer": "ipython3",
   "version": "3.6.6"
  }
 },
 "nbformat": 4,
 "nbformat_minor": 1
}
