{
 "cells": [
  {
   "cell_type": "markdown",
   "metadata": {},
   "source": [
    "# Units and Quantities\n",
    "\n",
    "## Objectives\n",
    "\n",
    "- Use units\n",
    "- Create functions that accept quantities as arguments\n",
    "- Create new units"
   ]
  },
  {
   "cell_type": "markdown",
   "metadata": {},
   "source": [
    "## Basics\n",
    "\n",
    "How do we define a Quantity and which parts does it have?"
   ]
  },
  {
   "cell_type": "code",
   "execution_count": 1,
   "metadata": {},
   "outputs": [],
   "source": [
    "import astropy.units as u"
   ]
  },
  {
   "cell_type": "code",
   "execution_count": 11,
   "metadata": {},
   "outputs": [
    {
     "name": "stdout",
     "output_type": "stream",
     "text": [
      "26.2 m\n"
     ]
    },
    {
     "data": {
      "text/plain": [
       "astropy.units.quantity.Quantity"
      ]
     },
     "execution_count": 11,
     "metadata": {},
     "output_type": "execute_result"
    }
   ],
   "source": [
    "length = 26.2 * u.meter\n",
    "print(length)\n",
    "type(length)"
   ]
  },
  {
   "cell_type": "code",
   "execution_count": 9,
   "metadata": {},
   "outputs": [
    {
     "data": {
      "text/plain": [
       "float"
      ]
     },
     "execution_count": 9,
     "metadata": {},
     "output_type": "execute_result"
    }
   ],
   "source": [
    "type(length.value)"
   ]
  },
  {
   "cell_type": "code",
   "execution_count": 10,
   "metadata": {},
   "outputs": [
    {
     "data": {
      "text/plain": [
       "dtype = float64\n",
       "unit = m\n",
       "class = Quantity\n",
       "n_bad = 0"
      ]
     },
     "execution_count": 10,
     "metadata": {},
     "output_type": "execute_result"
    }
   ],
   "source": [
    "length.info"
   ]
  },
  {
   "cell_type": "code",
   "execution_count": null,
   "metadata": {},
   "outputs": [],
   "source": []
  },
  {
   "cell_type": "code",
   "execution_count": null,
   "metadata": {},
   "outputs": [],
   "source": []
  },
  {
   "cell_type": "code",
   "execution_count": null,
   "metadata": {},
   "outputs": [],
   "source": []
  },
  {
   "cell_type": "code",
   "execution_count": 22,
   "metadata": {},
   "outputs": [
    {
     "name": "stdout",
     "output_type": "stream",
     "text": [
      "22.99999 km\n"
     ]
    }
   ],
   "source": [
    "distance_start = 10*u.mm\n",
    "distance_end = 23 *u.km\n",
    "\n",
    "length = distance_end-distance_start\n",
    "print(length)"
   ]
  },
  {
   "cell_type": "markdown",
   "metadata": {},
   "source": [
    "Quantities can be converted to other units systems or factors by using `to()`"
   ]
  },
  {
   "cell_type": "code",
   "execution_count": 33,
   "metadata": {},
   "outputs": [
    {
     "name": "stdout",
     "output_type": "stream",
     "text": [
      "22999.99 m\n"
     ]
    }
   ],
   "source": [
    "print(length.to(u.m))"
   ]
  },
  {
   "cell_type": "markdown",
   "metadata": {},
   "source": [
    "We can do arithmetic operations when the quantities have the compatible units:"
   ]
  },
  {
   "cell_type": "code",
   "execution_count": 39,
   "metadata": {},
   "outputs": [
    {
     "name": "stdout",
     "output_type": "stream",
     "text": [
      "1.5333326666666667 km / min\n",
      "25.555544444444447 m / s\n",
      "25.555544444444447 m / s\n",
      "25.555544444444447 m / s\n"
     ]
    }
   ],
   "source": [
    "time = 15 * u.minute\n",
    "speed = length / time\n",
    "print(speed)\n",
    "print(speed.to(u.m/u.s))\n",
    "print(speed.decompose())\n",
    "print(speed.si)"
   ]
  },
  {
   "cell_type": "markdown",
   "metadata": {},
   "source": [
    "Quantities can also be combined, for example to measure speed"
   ]
  },
  {
   "cell_type": "code",
   "execution_count": null,
   "metadata": {},
   "outputs": [],
   "source": []
  },
  {
   "cell_type": "code",
   "execution_count": null,
   "metadata": {},
   "outputs": [],
   "source": []
  },
  {
   "cell_type": "markdown",
   "metadata": {},
   "source": [
    "\n",
    "<section class=\"challenge panel panel-success\">\n",
    "<div class=\"panel-heading\">\n",
    "<h2><span class=\"fa fa-pencil\"></span> Unit conversions</h2>\n",
    "</div>\n",
    "\n",
    "\n",
    "<div class=\"panel-body\">\n",
    "\n",
    "<ol>\n",
    "<li>Convert the speed in imperial units (miles/hour) using:\n",
    "    <code>from astropy.units import imperial</code></li>\n",
    "<li>Calculate whether a pint is more than half litre.\n",
    "    <em>You can compare quantities as comparing variables.</em>\n",
    "    Something strange? Check what deffinition of <a href=\"https://en.wikipedia.org/wiki/Pint\">pint</a> astropy is using.</li>\n",
    "<li>Does units work with areas? calculate the area of a rectangle of 3 km of side and 5 meter of width. Show them in $m^2$ and convert them to yards$^2$</li>\n",
    "</ol>\n",
    "\n",
    "</div>\n",
    "\n",
    "</section>\n"
   ]
  },
  {
   "cell_type": "code",
   "execution_count": 73,
   "metadata": {},
   "outputs": [
    {
     "name": "stdout",
     "output_type": "stream",
     "text": [
      "1.5333326666666667 km / min\n",
      "57.16612483098704 mi / h\n",
      "pint\n",
      "False\n",
      "473.176473641504 ml\n",
      "0.5 l\n",
      "15000.0 m2\n",
      "17939.850694516197 yd2\n"
     ]
    }
   ],
   "source": [
    "from astropy.units import imperial\n",
    "\n",
    "print(speed)\n",
    "print(speed.to(imperial.mile/u.hour))\n",
    "\n",
    "halfLiter = u.liter/2\n",
    "pint = 1*imperial.pint\n",
    "\n",
    "print(imperial.pint)\n",
    "\n",
    "print(pint > halfLiter)\n",
    "print(pint.to(u.ml))\n",
    "\n",
    "print(halfLiter)\n",
    "\n",
    "side = 3*u.km \n",
    "width = 5*u.m\n",
    "print((side*width).decompose())\n",
    "print((side.to(u.m).to(imperial.yard)*width.to(imperial.yard)))"
   ]
  },
  {
   "cell_type": "markdown",
   "metadata": {},
   "source": [
    "## Composed units\n",
    "\n",
    "Many units are compositions of others, for example, one could create new combinationes for ease of use:"
   ]
  },
  {
   "cell_type": "code",
   "execution_count": 76,
   "metadata": {},
   "outputs": [
    {
     "name": "stdout",
     "output_type": "stream",
     "text": [
      "cm / s\n",
      "2555.5544444444445 cm / s\n"
     ]
    },
    {
     "data": {
      "text/latex": [
       "$2555.5544 \\; \\mathrm{\\frac{cm}{s}}$"
      ],
      "text/plain": [
       "<Quantity 2555.55444444 cm / s>"
      ]
     },
     "execution_count": 76,
     "metadata": {},
     "output_type": "execute_result"
    }
   ],
   "source": [
    "cms = u.cm/u.s\n",
    "print(cms)\n",
    "print(speed.to(cms))\n",
    "speed.to(cms)"
   ]
  },
  {
   "cell_type": "code",
   "execution_count": null,
   "metadata": {},
   "outputs": [],
   "source": []
  },
  {
   "cell_type": "markdown",
   "metadata": {},
   "source": [
    "and others are already a composition:"
   ]
  },
  {
   "cell_type": "code",
   "execution_count": 79,
   "metadata": {},
   "outputs": [
    {
     "data": {
      "text/plain": [
       "[Unit(\"J\"), Unit(\"1e+07 erg\"), Unit(\"4.58742e+17 Ry\"), Unit(\"6.24151e+18 eV\")]"
      ]
     },
     "execution_count": 79,
     "metadata": {},
     "output_type": "execute_result"
    }
   ],
   "source": [
    "(u.joule).compose()"
   ]
  },
  {
   "cell_type": "code",
   "execution_count": 93,
   "metadata": {},
   "outputs": [
    {
     "name": "stdout",
     "output_type": "stream",
     "text": [
      "10.0 m\n"
     ]
    }
   ],
   "source": [
    "nounits = 20*u.cm/(1*u.m)\n",
    "nounits.decompose()\n",
    "\n",
    "m = 10*u.m\n",
    "print(m)"
   ]
  },
  {
   "cell_type": "code",
   "execution_count": null,
   "metadata": {},
   "outputs": [],
   "source": []
  },
  {
   "cell_type": "markdown",
   "metadata": {},
   "source": [
    "Sometime we get *no units* quantitites"
   ]
  },
  {
   "cell_type": "code",
   "execution_count": null,
   "metadata": {},
   "outputs": [],
   "source": []
  },
  {
   "cell_type": "markdown",
   "metadata": {},
   "source": [
    "What happen if we add a number to this?"
   ]
  },
  {
   "cell_type": "code",
   "execution_count": null,
   "metadata": {},
   "outputs": [],
   "source": []
  },
  {
   "cell_type": "code",
   "execution_count": null,
   "metadata": {},
   "outputs": [],
   "source": []
  },
  {
   "cell_type": "markdown",
   "metadata": {},
   "source": [
    "## Equivalencies\n",
    "\n",
    "Some conversions are not done by a conversion factor as between miles and kilometers, for example converting between wavelength and frequency."
   ]
  },
  {
   "cell_type": "code",
   "execution_count": 94,
   "metadata": {},
   "outputs": [
    {
     "ename": "UnitConversionError",
     "evalue": "'nm' (length) and 'Hz' (frequency) are not convertible",
     "output_type": "error",
     "traceback": [
      "\u001b[0;31m---------------------------------------------------------------------------\u001b[0m",
      "\u001b[0;31mUnitConversionError\u001b[0m                       Traceback (most recent call last)",
      "\u001b[0;32m<ipython-input-94-233f32922330>\u001b[0m in \u001b[0;36m<module>\u001b[0;34m()\u001b[0m\n\u001b[0;32m----> 1\u001b[0;31m \u001b[0;34m(\u001b[0m\u001b[0;36m656.281\u001b[0m \u001b[0;34m*\u001b[0m \u001b[0mu\u001b[0m\u001b[0;34m.\u001b[0m\u001b[0mnm\u001b[0m\u001b[0;34m)\u001b[0m\u001b[0;34m.\u001b[0m\u001b[0mto\u001b[0m\u001b[0;34m(\u001b[0m\u001b[0mu\u001b[0m\u001b[0;34m.\u001b[0m\u001b[0mHz\u001b[0m\u001b[0;34m)\u001b[0m\u001b[0;34m\u001b[0m\u001b[0m\n\u001b[0m",
      "\u001b[0;32m~/anaconda3/envs/stfc-summer-school/lib/python3.6/site-packages/astropy/units/quantity.py\u001b[0m in \u001b[0;36mto\u001b[0;34m(self, unit, equivalencies)\u001b[0m\n\u001b[1;32m    845\u001b[0m         \u001b[0;31m# and don't want to slow down this method (esp. the scalar case).\u001b[0m\u001b[0;34m\u001b[0m\u001b[0;34m\u001b[0m\u001b[0m\n\u001b[1;32m    846\u001b[0m         \u001b[0munit\u001b[0m \u001b[0;34m=\u001b[0m \u001b[0mUnit\u001b[0m\u001b[0;34m(\u001b[0m\u001b[0munit\u001b[0m\u001b[0;34m)\u001b[0m\u001b[0;34m\u001b[0m\u001b[0m\n\u001b[0;32m--> 847\u001b[0;31m         \u001b[0;32mreturn\u001b[0m \u001b[0mself\u001b[0m\u001b[0;34m.\u001b[0m\u001b[0m_new_view\u001b[0m\u001b[0;34m(\u001b[0m\u001b[0mself\u001b[0m\u001b[0;34m.\u001b[0m\u001b[0m_to_value\u001b[0m\u001b[0;34m(\u001b[0m\u001b[0munit\u001b[0m\u001b[0;34m,\u001b[0m \u001b[0mequivalencies\u001b[0m\u001b[0;34m)\u001b[0m\u001b[0;34m,\u001b[0m \u001b[0munit\u001b[0m\u001b[0;34m)\u001b[0m\u001b[0;34m\u001b[0m\u001b[0m\n\u001b[0m\u001b[1;32m    848\u001b[0m \u001b[0;34m\u001b[0m\u001b[0m\n\u001b[1;32m    849\u001b[0m     \u001b[0;32mdef\u001b[0m \u001b[0mto_value\u001b[0m\u001b[0;34m(\u001b[0m\u001b[0mself\u001b[0m\u001b[0;34m,\u001b[0m \u001b[0munit\u001b[0m\u001b[0;34m=\u001b[0m\u001b[0;32mNone\u001b[0m\u001b[0;34m,\u001b[0m \u001b[0mequivalencies\u001b[0m\u001b[0;34m=\u001b[0m\u001b[0;34m[\u001b[0m\u001b[0;34m]\u001b[0m\u001b[0;34m)\u001b[0m\u001b[0;34m:\u001b[0m\u001b[0;34m\u001b[0m\u001b[0m\n",
      "\u001b[0;32m~/anaconda3/envs/stfc-summer-school/lib/python3.6/site-packages/astropy/units/quantity.py\u001b[0m in \u001b[0;36m_to_value\u001b[0;34m(self, unit, equivalencies)\u001b[0m\n\u001b[1;32m    817\u001b[0m             \u001b[0mequivalencies\u001b[0m \u001b[0;34m=\u001b[0m \u001b[0mself\u001b[0m\u001b[0;34m.\u001b[0m\u001b[0m_equivalencies\u001b[0m\u001b[0;34m\u001b[0m\u001b[0m\n\u001b[1;32m    818\u001b[0m         return self.unit.to(unit, self.view(np.ndarray),\n\u001b[0;32m--> 819\u001b[0;31m                             equivalencies=equivalencies)\n\u001b[0m\u001b[1;32m    820\u001b[0m \u001b[0;34m\u001b[0m\u001b[0m\n\u001b[1;32m    821\u001b[0m     \u001b[0;32mdef\u001b[0m \u001b[0mto\u001b[0m\u001b[0;34m(\u001b[0m\u001b[0mself\u001b[0m\u001b[0;34m,\u001b[0m \u001b[0munit\u001b[0m\u001b[0;34m,\u001b[0m \u001b[0mequivalencies\u001b[0m\u001b[0;34m=\u001b[0m\u001b[0;34m[\u001b[0m\u001b[0;34m]\u001b[0m\u001b[0;34m)\u001b[0m\u001b[0;34m:\u001b[0m\u001b[0;34m\u001b[0m\u001b[0m\n",
      "\u001b[0;32m~/anaconda3/envs/stfc-summer-school/lib/python3.6/site-packages/astropy/units/core.py\u001b[0m in \u001b[0;36mto\u001b[0;34m(self, other, value, equivalencies)\u001b[0m\n\u001b[1;32m    963\u001b[0m             \u001b[0mIf\u001b[0m \u001b[0munits\u001b[0m \u001b[0mare\u001b[0m \u001b[0minconsistent\u001b[0m\u001b[0;34m\u001b[0m\u001b[0m\n\u001b[1;32m    964\u001b[0m         \"\"\"\n\u001b[0;32m--> 965\u001b[0;31m         \u001b[0;32mreturn\u001b[0m \u001b[0mself\u001b[0m\u001b[0;34m.\u001b[0m\u001b[0m_get_converter\u001b[0m\u001b[0;34m(\u001b[0m\u001b[0mother\u001b[0m\u001b[0;34m,\u001b[0m \u001b[0mequivalencies\u001b[0m\u001b[0;34m=\u001b[0m\u001b[0mequivalencies\u001b[0m\u001b[0;34m)\u001b[0m\u001b[0;34m(\u001b[0m\u001b[0mvalue\u001b[0m\u001b[0;34m)\u001b[0m\u001b[0;34m\u001b[0m\u001b[0m\n\u001b[0m\u001b[1;32m    966\u001b[0m \u001b[0;34m\u001b[0m\u001b[0m\n\u001b[1;32m    967\u001b[0m     \u001b[0;32mdef\u001b[0m \u001b[0min_units\u001b[0m\u001b[0;34m(\u001b[0m\u001b[0mself\u001b[0m\u001b[0;34m,\u001b[0m \u001b[0mother\u001b[0m\u001b[0;34m,\u001b[0m \u001b[0mvalue\u001b[0m\u001b[0;34m=\u001b[0m\u001b[0;36m1.0\u001b[0m\u001b[0;34m,\u001b[0m \u001b[0mequivalencies\u001b[0m\u001b[0;34m=\u001b[0m\u001b[0;34m[\u001b[0m\u001b[0;34m]\u001b[0m\u001b[0;34m)\u001b[0m\u001b[0;34m:\u001b[0m\u001b[0;34m\u001b[0m\u001b[0m\n",
      "\u001b[0;32m~/anaconda3/envs/stfc-summer-school/lib/python3.6/site-packages/astropy/units/core.py\u001b[0m in \u001b[0;36m_get_converter\u001b[0;34m(self, other, equivalencies)\u001b[0m\n\u001b[1;32m    897\u001b[0m                             \u001b[0;32mpass\u001b[0m\u001b[0;34m\u001b[0m\u001b[0m\n\u001b[1;32m    898\u001b[0m \u001b[0;34m\u001b[0m\u001b[0m\n\u001b[0;32m--> 899\u001b[0;31m             \u001b[0;32mraise\u001b[0m \u001b[0mexc\u001b[0m\u001b[0;34m\u001b[0m\u001b[0m\n\u001b[0m\u001b[1;32m    900\u001b[0m \u001b[0;34m\u001b[0m\u001b[0m\n\u001b[1;32m    901\u001b[0m     \u001b[0;32mdef\u001b[0m \u001b[0m_to\u001b[0m\u001b[0;34m(\u001b[0m\u001b[0mself\u001b[0m\u001b[0;34m,\u001b[0m \u001b[0mother\u001b[0m\u001b[0;34m)\u001b[0m\u001b[0;34m:\u001b[0m\u001b[0;34m\u001b[0m\u001b[0m\n",
      "\u001b[0;32m~/anaconda3/envs/stfc-summer-school/lib/python3.6/site-packages/astropy/units/core.py\u001b[0m in \u001b[0;36m_get_converter\u001b[0;34m(self, other, equivalencies)\u001b[0m\n\u001b[1;32m    883\u001b[0m         \u001b[0;32mtry\u001b[0m\u001b[0;34m:\u001b[0m\u001b[0;34m\u001b[0m\u001b[0m\n\u001b[1;32m    884\u001b[0m             return self._apply_equivalencies(\n\u001b[0;32m--> 885\u001b[0;31m                 self, other, self._normalize_equivalencies(equivalencies))\n\u001b[0m\u001b[1;32m    886\u001b[0m         \u001b[0;32mexcept\u001b[0m \u001b[0mUnitsError\u001b[0m \u001b[0;32mas\u001b[0m \u001b[0mexc\u001b[0m\u001b[0;34m:\u001b[0m\u001b[0;34m\u001b[0m\u001b[0m\n\u001b[1;32m    887\u001b[0m             \u001b[0;31m# Last hope: maybe other knows how to do it?\u001b[0m\u001b[0;34m\u001b[0m\u001b[0;34m\u001b[0m\u001b[0m\n",
      "\u001b[0;32m~/anaconda3/envs/stfc-summer-school/lib/python3.6/site-packages/astropy/units/core.py\u001b[0m in \u001b[0;36m_apply_equivalencies\u001b[0;34m(self, unit, other, equivalencies)\u001b[0m\n\u001b[1;32m    867\u001b[0m         raise UnitConversionError(\n\u001b[1;32m    868\u001b[0m             \"{0} and {1} are not convertible\".format(\n\u001b[0;32m--> 869\u001b[0;31m                 unit_str, other_str))\n\u001b[0m\u001b[1;32m    870\u001b[0m \u001b[0;34m\u001b[0m\u001b[0m\n\u001b[1;32m    871\u001b[0m     \u001b[0;32mdef\u001b[0m \u001b[0m_get_converter\u001b[0m\u001b[0;34m(\u001b[0m\u001b[0mself\u001b[0m\u001b[0;34m,\u001b[0m \u001b[0mother\u001b[0m\u001b[0;34m,\u001b[0m \u001b[0mequivalencies\u001b[0m\u001b[0;34m=\u001b[0m\u001b[0;34m[\u001b[0m\u001b[0;34m]\u001b[0m\u001b[0;34m)\u001b[0m\u001b[0;34m:\u001b[0m\u001b[0;34m\u001b[0m\u001b[0m\n",
      "\u001b[0;31mUnitConversionError\u001b[0m: 'nm' (length) and 'Hz' (frequency) are not convertible"
     ]
    }
   ],
   "source": [
    "(656.281 * u.nm).to(u.Hz)"
   ]
  },
  {
   "cell_type": "code",
   "execution_count": 96,
   "metadata": {},
   "outputs": [
    {
     "data": {
      "text/latex": [
       "$4.5680502 \\times 10^{14} \\; \\mathrm{Hz}$"
      ],
      "text/plain": [
       "<Quantity 4.56805024e+14 Hz>"
      ]
     },
     "execution_count": 96,
     "metadata": {},
     "output_type": "execute_result"
    }
   ],
   "source": [
    "(656.281 * u.nm).to(u.Hz, equivalencies = u.spectral())"
   ]
  },
  {
   "cell_type": "markdown",
   "metadata": {},
   "source": [
    "Other built-in equivalencies are: \n",
    " - `parallax()`\n",
    " - Doppler (`dopplr_radio`, `doppler_optical`, `doppler_relativistic`)\n",
    " - spectral flux density\n",
    " - brigthness temperature\n",
    " - temperature energy\n",
    " - and you can [build your own](http://astropy.readthedocs.org/en/stable/units/equivalencies.html#writing-new-equivalencies)"
   ]
  },
  {
   "cell_type": "code",
   "execution_count": 99,
   "metadata": {},
   "outputs": [
    {
     "data": {
      "text/plain": [
       "  Primary name | Unit definition | Aliases     \n",
       "[\n",
       "  Bq           | 1 / s           | becquerel    ,\n",
       "  Ci           | 3.7e+10 / s     | curie        ,\n",
       "  Hz           | 1 / s           | Hertz, hertz ,\n",
       "]"
      ]
     },
     "execution_count": 99,
     "metadata": {},
     "output_type": "execute_result"
    }
   ],
   "source": [
    "u.Hz.find_equivalent_units()"
   ]
  },
  {
   "cell_type": "code",
   "execution_count": null,
   "metadata": {},
   "outputs": [],
   "source": []
  },
  {
   "cell_type": "markdown",
   "metadata": {},
   "source": [
    "## Printing the quantities"
   ]
  },
  {
   "cell_type": "code",
   "execution_count": 108,
   "metadata": {},
   "outputs": [
    {
     "name": "stdout",
     "output_type": "stream",
     "text": [
      "25.556m s-1\n",
      "1.533$\\mathrm{km\\,min^{-1}}$\n"
     ]
    }
   ],
   "source": [
    "print(\"{0.value:0.03f}{0.unit:FITS}\".format(speed.si))\n",
    "print(\"{0.value:0.03f}{0.unit:latex_inline}\".format(speed))"
   ]
  },
  {
   "cell_type": "code",
   "execution_count": 115,
   "metadata": {},
   "outputs": [
    {
     "name": "stdout",
     "output_type": "stream",
     "text": [
      "1.5333326666666667 km min-1\n"
     ]
    }
   ],
   "source": [
    "print(f\"{speed.value} {speed.unit:FITS}\")"
   ]
  },
  {
   "cell_type": "markdown",
   "metadata": {},
   "source": [
    "## Arrays\n",
    "\n",
    "Quantities can also be applied to arrays"
   ]
  },
  {
   "cell_type": "code",
   "execution_count": 117,
   "metadata": {},
   "outputs": [
    {
     "name": "stdout",
     "output_type": "stream",
     "text": [
      "1.9130434782608696 m / s\n"
     ]
    }
   ],
   "source": [
    "import numpy as np\n",
    "my_arr = np.array([1, 4, 5, 213])\n",
    "\n",
    "length = 44*u.m\n",
    "time = u.Quantity(23, u.s)\n",
    "\n",
    "speed = length/time\n",
    "print(speed)"
   ]
  },
  {
   "cell_type": "code",
   "execution_count": 125,
   "metadata": {},
   "outputs": [
    {
     "name": "stdout",
     "output_type": "stream",
     "text": [
      "[1. 2. 3.] m\n",
      "[1. 1. 1.] m / s\n",
      "1.0 s\n"
     ]
    }
   ],
   "source": [
    "length_list = [1,2,3]*u.m\n",
    "print(length_list)\n",
    "\n",
    "time_array = np.array([1,2,3])*u.s\n",
    "\n",
    "print(length_list/time_array)\n",
    "print(time_array[0])"
   ]
  },
  {
   "cell_type": "code",
   "execution_count": 141,
   "metadata": {},
   "outputs": [
    {
     "name": "stdout",
     "output_type": "stream",
     "text": [
      "[ 10. 178.] deg\n",
      "[0.17364818 0.0348995 ]\n",
      "[ 10.   12.1  14.2  16.3  18.4  20.5  22.6  24.7  26.8  28.9  31.   33.1\n",
      "  35.2  37.3  39.4  41.5  43.6  45.7  47.8  49.9  52.   54.1  56.2  58.3\n",
      "  60.4  62.5  64.6  66.7  68.8  70.9  73.   75.1  77.2  79.3  81.4  83.5\n",
      "  85.6  87.7  89.8  91.9  94.   96.1  98.2 100.3 102.4 104.5 106.6 108.7\n",
      " 110.8 112.9 115.  117.1 119.2 121.3 123.4 125.5 127.6 129.7 131.8 133.9\n",
      " 136.  138.1 140.2 142.3 144.4 146.5 148.6 150.7 152.8 154.9 157.  159.1\n",
      " 161.2 163.3 165.4 167.5 169.6 171.7 173.8 175.9 178. ] deg\n"
     ]
    }
   ],
   "source": [
    "angle = u.Quantity(np.arange(10, 180, 2.1), u.deg)\n",
    "print(angle[[0,-1]])\n",
    "print(np.sin(angle[[0, -1]]))"
   ]
  },
  {
   "cell_type": "markdown",
   "metadata": {},
   "source": [
    "## Plotting quantities\n",
    "\n",
    "To work nicely with matplotlib we need to do as follows:"
   ]
  },
  {
   "cell_type": "code",
   "execution_count": 143,
   "metadata": {},
   "outputs": [],
   "source": [
    "from astropy.visualization import quantity_support\n",
    "quantity_support()\n",
    "\n",
    "%matplotlib notebook\n",
    "from matplotlib import pyplot as plt"
   ]
  },
  {
   "cell_type": "code",
   "execution_count": 147,
   "metadata": {},
   "outputs": [
    {
     "data": {
      "application/javascript": [
       "/* Put everything inside the global mpl namespace */\n",
       "window.mpl = {};\n",
       "\n",
       "\n",
       "mpl.get_websocket_type = function() {\n",
       "    if (typeof(WebSocket) !== 'undefined') {\n",
       "        return WebSocket;\n",
       "    } else if (typeof(MozWebSocket) !== 'undefined') {\n",
       "        return MozWebSocket;\n",
       "    } else {\n",
       "        alert('Your browser does not have WebSocket support.' +\n",
       "              'Please try Chrome, Safari or Firefox ≥ 6. ' +\n",
       "              'Firefox 4 and 5 are also supported but you ' +\n",
       "              'have to enable WebSockets in about:config.');\n",
       "    };\n",
       "}\n",
       "\n",
       "mpl.figure = function(figure_id, websocket, ondownload, parent_element) {\n",
       "    this.id = figure_id;\n",
       "\n",
       "    this.ws = websocket;\n",
       "\n",
       "    this.supports_binary = (this.ws.binaryType != undefined);\n",
       "\n",
       "    if (!this.supports_binary) {\n",
       "        var warnings = document.getElementById(\"mpl-warnings\");\n",
       "        if (warnings) {\n",
       "            warnings.style.display = 'block';\n",
       "            warnings.textContent = (\n",
       "                \"This browser does not support binary websocket messages. \" +\n",
       "                    \"Performance may be slow.\");\n",
       "        }\n",
       "    }\n",
       "\n",
       "    this.imageObj = new Image();\n",
       "\n",
       "    this.context = undefined;\n",
       "    this.message = undefined;\n",
       "    this.canvas = undefined;\n",
       "    this.rubberband_canvas = undefined;\n",
       "    this.rubberband_context = undefined;\n",
       "    this.format_dropdown = undefined;\n",
       "\n",
       "    this.image_mode = 'full';\n",
       "\n",
       "    this.root = $('<div/>');\n",
       "    this._root_extra_style(this.root)\n",
       "    this.root.attr('style', 'display: inline-block');\n",
       "\n",
       "    $(parent_element).append(this.root);\n",
       "\n",
       "    this._init_header(this);\n",
       "    this._init_canvas(this);\n",
       "    this._init_toolbar(this);\n",
       "\n",
       "    var fig = this;\n",
       "\n",
       "    this.waiting = false;\n",
       "\n",
       "    this.ws.onopen =  function () {\n",
       "            fig.send_message(\"supports_binary\", {value: fig.supports_binary});\n",
       "            fig.send_message(\"send_image_mode\", {});\n",
       "            if (mpl.ratio != 1) {\n",
       "                fig.send_message(\"set_dpi_ratio\", {'dpi_ratio': mpl.ratio});\n",
       "            }\n",
       "            fig.send_message(\"refresh\", {});\n",
       "        }\n",
       "\n",
       "    this.imageObj.onload = function() {\n",
       "            if (fig.image_mode == 'full') {\n",
       "                // Full images could contain transparency (where diff images\n",
       "                // almost always do), so we need to clear the canvas so that\n",
       "                // there is no ghosting.\n",
       "                fig.context.clearRect(0, 0, fig.canvas.width, fig.canvas.height);\n",
       "            }\n",
       "            fig.context.drawImage(fig.imageObj, 0, 0);\n",
       "        };\n",
       "\n",
       "    this.imageObj.onunload = function() {\n",
       "        fig.ws.close();\n",
       "    }\n",
       "\n",
       "    this.ws.onmessage = this._make_on_message_function(this);\n",
       "\n",
       "    this.ondownload = ondownload;\n",
       "}\n",
       "\n",
       "mpl.figure.prototype._init_header = function() {\n",
       "    var titlebar = $(\n",
       "        '<div class=\"ui-dialog-titlebar ui-widget-header ui-corner-all ' +\n",
       "        'ui-helper-clearfix\"/>');\n",
       "    var titletext = $(\n",
       "        '<div class=\"ui-dialog-title\" style=\"width: 100%; ' +\n",
       "        'text-align: center; padding: 3px;\"/>');\n",
       "    titlebar.append(titletext)\n",
       "    this.root.append(titlebar);\n",
       "    this.header = titletext[0];\n",
       "}\n",
       "\n",
       "\n",
       "\n",
       "mpl.figure.prototype._canvas_extra_style = function(canvas_div) {\n",
       "\n",
       "}\n",
       "\n",
       "\n",
       "mpl.figure.prototype._root_extra_style = function(canvas_div) {\n",
       "\n",
       "}\n",
       "\n",
       "mpl.figure.prototype._init_canvas = function() {\n",
       "    var fig = this;\n",
       "\n",
       "    var canvas_div = $('<div/>');\n",
       "\n",
       "    canvas_div.attr('style', 'position: relative; clear: both; outline: 0');\n",
       "\n",
       "    function canvas_keyboard_event(event) {\n",
       "        return fig.key_event(event, event['data']);\n",
       "    }\n",
       "\n",
       "    canvas_div.keydown('key_press', canvas_keyboard_event);\n",
       "    canvas_div.keyup('key_release', canvas_keyboard_event);\n",
       "    this.canvas_div = canvas_div\n",
       "    this._canvas_extra_style(canvas_div)\n",
       "    this.root.append(canvas_div);\n",
       "\n",
       "    var canvas = $('<canvas/>');\n",
       "    canvas.addClass('mpl-canvas');\n",
       "    canvas.attr('style', \"left: 0; top: 0; z-index: 0; outline: 0\")\n",
       "\n",
       "    this.canvas = canvas[0];\n",
       "    this.context = canvas[0].getContext(\"2d\");\n",
       "\n",
       "    var backingStore = this.context.backingStorePixelRatio ||\n",
       "\tthis.context.webkitBackingStorePixelRatio ||\n",
       "\tthis.context.mozBackingStorePixelRatio ||\n",
       "\tthis.context.msBackingStorePixelRatio ||\n",
       "\tthis.context.oBackingStorePixelRatio ||\n",
       "\tthis.context.backingStorePixelRatio || 1;\n",
       "\n",
       "    mpl.ratio = (window.devicePixelRatio || 1) / backingStore;\n",
       "\n",
       "    var rubberband = $('<canvas/>');\n",
       "    rubberband.attr('style', \"position: absolute; left: 0; top: 0; z-index: 1;\")\n",
       "\n",
       "    var pass_mouse_events = true;\n",
       "\n",
       "    canvas_div.resizable({\n",
       "        start: function(event, ui) {\n",
       "            pass_mouse_events = false;\n",
       "        },\n",
       "        resize: function(event, ui) {\n",
       "            fig.request_resize(ui.size.width, ui.size.height);\n",
       "        },\n",
       "        stop: function(event, ui) {\n",
       "            pass_mouse_events = true;\n",
       "            fig.request_resize(ui.size.width, ui.size.height);\n",
       "        },\n",
       "    });\n",
       "\n",
       "    function mouse_event_fn(event) {\n",
       "        if (pass_mouse_events)\n",
       "            return fig.mouse_event(event, event['data']);\n",
       "    }\n",
       "\n",
       "    rubberband.mousedown('button_press', mouse_event_fn);\n",
       "    rubberband.mouseup('button_release', mouse_event_fn);\n",
       "    // Throttle sequential mouse events to 1 every 20ms.\n",
       "    rubberband.mousemove('motion_notify', mouse_event_fn);\n",
       "\n",
       "    rubberband.mouseenter('figure_enter', mouse_event_fn);\n",
       "    rubberband.mouseleave('figure_leave', mouse_event_fn);\n",
       "\n",
       "    canvas_div.on(\"wheel\", function (event) {\n",
       "        event = event.originalEvent;\n",
       "        event['data'] = 'scroll'\n",
       "        if (event.deltaY < 0) {\n",
       "            event.step = 1;\n",
       "        } else {\n",
       "            event.step = -1;\n",
       "        }\n",
       "        mouse_event_fn(event);\n",
       "    });\n",
       "\n",
       "    canvas_div.append(canvas);\n",
       "    canvas_div.append(rubberband);\n",
       "\n",
       "    this.rubberband = rubberband;\n",
       "    this.rubberband_canvas = rubberband[0];\n",
       "    this.rubberband_context = rubberband[0].getContext(\"2d\");\n",
       "    this.rubberband_context.strokeStyle = \"#000000\";\n",
       "\n",
       "    this._resize_canvas = function(width, height) {\n",
       "        // Keep the size of the canvas, canvas container, and rubber band\n",
       "        // canvas in synch.\n",
       "        canvas_div.css('width', width)\n",
       "        canvas_div.css('height', height)\n",
       "\n",
       "        canvas.attr('width', width * mpl.ratio);\n",
       "        canvas.attr('height', height * mpl.ratio);\n",
       "        canvas.attr('style', 'width: ' + width + 'px; height: ' + height + 'px;');\n",
       "\n",
       "        rubberband.attr('width', width);\n",
       "        rubberband.attr('height', height);\n",
       "    }\n",
       "\n",
       "    // Set the figure to an initial 600x600px, this will subsequently be updated\n",
       "    // upon first draw.\n",
       "    this._resize_canvas(600, 600);\n",
       "\n",
       "    // Disable right mouse context menu.\n",
       "    $(this.rubberband_canvas).bind(\"contextmenu\",function(e){\n",
       "        return false;\n",
       "    });\n",
       "\n",
       "    function set_focus () {\n",
       "        canvas.focus();\n",
       "        canvas_div.focus();\n",
       "    }\n",
       "\n",
       "    window.setTimeout(set_focus, 100);\n",
       "}\n",
       "\n",
       "mpl.figure.prototype._init_toolbar = function() {\n",
       "    var fig = this;\n",
       "\n",
       "    var nav_element = $('<div/>')\n",
       "    nav_element.attr('style', 'width: 100%');\n",
       "    this.root.append(nav_element);\n",
       "\n",
       "    // Define a callback function for later on.\n",
       "    function toolbar_event(event) {\n",
       "        return fig.toolbar_button_onclick(event['data']);\n",
       "    }\n",
       "    function toolbar_mouse_event(event) {\n",
       "        return fig.toolbar_button_onmouseover(event['data']);\n",
       "    }\n",
       "\n",
       "    for(var toolbar_ind in mpl.toolbar_items) {\n",
       "        var name = mpl.toolbar_items[toolbar_ind][0];\n",
       "        var tooltip = mpl.toolbar_items[toolbar_ind][1];\n",
       "        var image = mpl.toolbar_items[toolbar_ind][2];\n",
       "        var method_name = mpl.toolbar_items[toolbar_ind][3];\n",
       "\n",
       "        if (!name) {\n",
       "            // put a spacer in here.\n",
       "            continue;\n",
       "        }\n",
       "        var button = $('<button/>');\n",
       "        button.addClass('ui-button ui-widget ui-state-default ui-corner-all ' +\n",
       "                        'ui-button-icon-only');\n",
       "        button.attr('role', 'button');\n",
       "        button.attr('aria-disabled', 'false');\n",
       "        button.click(method_name, toolbar_event);\n",
       "        button.mouseover(tooltip, toolbar_mouse_event);\n",
       "\n",
       "        var icon_img = $('<span/>');\n",
       "        icon_img.addClass('ui-button-icon-primary ui-icon');\n",
       "        icon_img.addClass(image);\n",
       "        icon_img.addClass('ui-corner-all');\n",
       "\n",
       "        var tooltip_span = $('<span/>');\n",
       "        tooltip_span.addClass('ui-button-text');\n",
       "        tooltip_span.html(tooltip);\n",
       "\n",
       "        button.append(icon_img);\n",
       "        button.append(tooltip_span);\n",
       "\n",
       "        nav_element.append(button);\n",
       "    }\n",
       "\n",
       "    var fmt_picker_span = $('<span/>');\n",
       "\n",
       "    var fmt_picker = $('<select/>');\n",
       "    fmt_picker.addClass('mpl-toolbar-option ui-widget ui-widget-content');\n",
       "    fmt_picker_span.append(fmt_picker);\n",
       "    nav_element.append(fmt_picker_span);\n",
       "    this.format_dropdown = fmt_picker[0];\n",
       "\n",
       "    for (var ind in mpl.extensions) {\n",
       "        var fmt = mpl.extensions[ind];\n",
       "        var option = $(\n",
       "            '<option/>', {selected: fmt === mpl.default_extension}).html(fmt);\n",
       "        fmt_picker.append(option)\n",
       "    }\n",
       "\n",
       "    // Add hover states to the ui-buttons\n",
       "    $( \".ui-button\" ).hover(\n",
       "        function() { $(this).addClass(\"ui-state-hover\");},\n",
       "        function() { $(this).removeClass(\"ui-state-hover\");}\n",
       "    );\n",
       "\n",
       "    var status_bar = $('<span class=\"mpl-message\"/>');\n",
       "    nav_element.append(status_bar);\n",
       "    this.message = status_bar[0];\n",
       "}\n",
       "\n",
       "mpl.figure.prototype.request_resize = function(x_pixels, y_pixels) {\n",
       "    // Request matplotlib to resize the figure. Matplotlib will then trigger a resize in the client,\n",
       "    // which will in turn request a refresh of the image.\n",
       "    this.send_message('resize', {'width': x_pixels, 'height': y_pixels});\n",
       "}\n",
       "\n",
       "mpl.figure.prototype.send_message = function(type, properties) {\n",
       "    properties['type'] = type;\n",
       "    properties['figure_id'] = this.id;\n",
       "    this.ws.send(JSON.stringify(properties));\n",
       "}\n",
       "\n",
       "mpl.figure.prototype.send_draw_message = function() {\n",
       "    if (!this.waiting) {\n",
       "        this.waiting = true;\n",
       "        this.ws.send(JSON.stringify({type: \"draw\", figure_id: this.id}));\n",
       "    }\n",
       "}\n",
       "\n",
       "\n",
       "mpl.figure.prototype.handle_save = function(fig, msg) {\n",
       "    var format_dropdown = fig.format_dropdown;\n",
       "    var format = format_dropdown.options[format_dropdown.selectedIndex].value;\n",
       "    fig.ondownload(fig, format);\n",
       "}\n",
       "\n",
       "\n",
       "mpl.figure.prototype.handle_resize = function(fig, msg) {\n",
       "    var size = msg['size'];\n",
       "    if (size[0] != fig.canvas.width || size[1] != fig.canvas.height) {\n",
       "        fig._resize_canvas(size[0], size[1]);\n",
       "        fig.send_message(\"refresh\", {});\n",
       "    };\n",
       "}\n",
       "\n",
       "mpl.figure.prototype.handle_rubberband = function(fig, msg) {\n",
       "    var x0 = msg['x0'] / mpl.ratio;\n",
       "    var y0 = (fig.canvas.height - msg['y0']) / mpl.ratio;\n",
       "    var x1 = msg['x1'] / mpl.ratio;\n",
       "    var y1 = (fig.canvas.height - msg['y1']) / mpl.ratio;\n",
       "    x0 = Math.floor(x0) + 0.5;\n",
       "    y0 = Math.floor(y0) + 0.5;\n",
       "    x1 = Math.floor(x1) + 0.5;\n",
       "    y1 = Math.floor(y1) + 0.5;\n",
       "    var min_x = Math.min(x0, x1);\n",
       "    var min_y = Math.min(y0, y1);\n",
       "    var width = Math.abs(x1 - x0);\n",
       "    var height = Math.abs(y1 - y0);\n",
       "\n",
       "    fig.rubberband_context.clearRect(\n",
       "        0, 0, fig.canvas.width, fig.canvas.height);\n",
       "\n",
       "    fig.rubberband_context.strokeRect(min_x, min_y, width, height);\n",
       "}\n",
       "\n",
       "mpl.figure.prototype.handle_figure_label = function(fig, msg) {\n",
       "    // Updates the figure title.\n",
       "    fig.header.textContent = msg['label'];\n",
       "}\n",
       "\n",
       "mpl.figure.prototype.handle_cursor = function(fig, msg) {\n",
       "    var cursor = msg['cursor'];\n",
       "    switch(cursor)\n",
       "    {\n",
       "    case 0:\n",
       "        cursor = 'pointer';\n",
       "        break;\n",
       "    case 1:\n",
       "        cursor = 'default';\n",
       "        break;\n",
       "    case 2:\n",
       "        cursor = 'crosshair';\n",
       "        break;\n",
       "    case 3:\n",
       "        cursor = 'move';\n",
       "        break;\n",
       "    }\n",
       "    fig.rubberband_canvas.style.cursor = cursor;\n",
       "}\n",
       "\n",
       "mpl.figure.prototype.handle_message = function(fig, msg) {\n",
       "    fig.message.textContent = msg['message'];\n",
       "}\n",
       "\n",
       "mpl.figure.prototype.handle_draw = function(fig, msg) {\n",
       "    // Request the server to send over a new figure.\n",
       "    fig.send_draw_message();\n",
       "}\n",
       "\n",
       "mpl.figure.prototype.handle_image_mode = function(fig, msg) {\n",
       "    fig.image_mode = msg['mode'];\n",
       "}\n",
       "\n",
       "mpl.figure.prototype.updated_canvas_event = function() {\n",
       "    // Called whenever the canvas gets updated.\n",
       "    this.send_message(\"ack\", {});\n",
       "}\n",
       "\n",
       "// A function to construct a web socket function for onmessage handling.\n",
       "// Called in the figure constructor.\n",
       "mpl.figure.prototype._make_on_message_function = function(fig) {\n",
       "    return function socket_on_message(evt) {\n",
       "        if (evt.data instanceof Blob) {\n",
       "            /* FIXME: We get \"Resource interpreted as Image but\n",
       "             * transferred with MIME type text/plain:\" errors on\n",
       "             * Chrome.  But how to set the MIME type?  It doesn't seem\n",
       "             * to be part of the websocket stream */\n",
       "            evt.data.type = \"image/png\";\n",
       "\n",
       "            /* Free the memory for the previous frames */\n",
       "            if (fig.imageObj.src) {\n",
       "                (window.URL || window.webkitURL).revokeObjectURL(\n",
       "                    fig.imageObj.src);\n",
       "            }\n",
       "\n",
       "            fig.imageObj.src = (window.URL || window.webkitURL).createObjectURL(\n",
       "                evt.data);\n",
       "            fig.updated_canvas_event();\n",
       "            fig.waiting = false;\n",
       "            return;\n",
       "        }\n",
       "        else if (typeof evt.data === 'string' && evt.data.slice(0, 21) == \"data:image/png;base64\") {\n",
       "            fig.imageObj.src = evt.data;\n",
       "            fig.updated_canvas_event();\n",
       "            fig.waiting = false;\n",
       "            return;\n",
       "        }\n",
       "\n",
       "        var msg = JSON.parse(evt.data);\n",
       "        var msg_type = msg['type'];\n",
       "\n",
       "        // Call the  \"handle_{type}\" callback, which takes\n",
       "        // the figure and JSON message as its only arguments.\n",
       "        try {\n",
       "            var callback = fig[\"handle_\" + msg_type];\n",
       "        } catch (e) {\n",
       "            console.log(\"No handler for the '\" + msg_type + \"' message type: \", msg);\n",
       "            return;\n",
       "        }\n",
       "\n",
       "        if (callback) {\n",
       "            try {\n",
       "                // console.log(\"Handling '\" + msg_type + \"' message: \", msg);\n",
       "                callback(fig, msg);\n",
       "            } catch (e) {\n",
       "                console.log(\"Exception inside the 'handler_\" + msg_type + \"' callback:\", e, e.stack, msg);\n",
       "            }\n",
       "        }\n",
       "    };\n",
       "}\n",
       "\n",
       "// from http://stackoverflow.com/questions/1114465/getting-mouse-location-in-canvas\n",
       "mpl.findpos = function(e) {\n",
       "    //this section is from http://www.quirksmode.org/js/events_properties.html\n",
       "    var targ;\n",
       "    if (!e)\n",
       "        e = window.event;\n",
       "    if (e.target)\n",
       "        targ = e.target;\n",
       "    else if (e.srcElement)\n",
       "        targ = e.srcElement;\n",
       "    if (targ.nodeType == 3) // defeat Safari bug\n",
       "        targ = targ.parentNode;\n",
       "\n",
       "    // jQuery normalizes the pageX and pageY\n",
       "    // pageX,Y are the mouse positions relative to the document\n",
       "    // offset() returns the position of the element relative to the document\n",
       "    var x = e.pageX - $(targ).offset().left;\n",
       "    var y = e.pageY - $(targ).offset().top;\n",
       "\n",
       "    return {\"x\": x, \"y\": y};\n",
       "};\n",
       "\n",
       "/*\n",
       " * return a copy of an object with only non-object keys\n",
       " * we need this to avoid circular references\n",
       " * http://stackoverflow.com/a/24161582/3208463\n",
       " */\n",
       "function simpleKeys (original) {\n",
       "  return Object.keys(original).reduce(function (obj, key) {\n",
       "    if (typeof original[key] !== 'object')\n",
       "        obj[key] = original[key]\n",
       "    return obj;\n",
       "  }, {});\n",
       "}\n",
       "\n",
       "mpl.figure.prototype.mouse_event = function(event, name) {\n",
       "    var canvas_pos = mpl.findpos(event)\n",
       "\n",
       "    if (name === 'button_press')\n",
       "    {\n",
       "        this.canvas.focus();\n",
       "        this.canvas_div.focus();\n",
       "    }\n",
       "\n",
       "    var x = canvas_pos.x * mpl.ratio;\n",
       "    var y = canvas_pos.y * mpl.ratio;\n",
       "\n",
       "    this.send_message(name, {x: x, y: y, button: event.button,\n",
       "                             step: event.step,\n",
       "                             guiEvent: simpleKeys(event)});\n",
       "\n",
       "    /* This prevents the web browser from automatically changing to\n",
       "     * the text insertion cursor when the button is pressed.  We want\n",
       "     * to control all of the cursor setting manually through the\n",
       "     * 'cursor' event from matplotlib */\n",
       "    event.preventDefault();\n",
       "    return false;\n",
       "}\n",
       "\n",
       "mpl.figure.prototype._key_event_extra = function(event, name) {\n",
       "    // Handle any extra behaviour associated with a key event\n",
       "}\n",
       "\n",
       "mpl.figure.prototype.key_event = function(event, name) {\n",
       "\n",
       "    // Prevent repeat events\n",
       "    if (name == 'key_press')\n",
       "    {\n",
       "        if (event.which === this._key)\n",
       "            return;\n",
       "        else\n",
       "            this._key = event.which;\n",
       "    }\n",
       "    if (name == 'key_release')\n",
       "        this._key = null;\n",
       "\n",
       "    var value = '';\n",
       "    if (event.ctrlKey && event.which != 17)\n",
       "        value += \"ctrl+\";\n",
       "    if (event.altKey && event.which != 18)\n",
       "        value += \"alt+\";\n",
       "    if (event.shiftKey && event.which != 16)\n",
       "        value += \"shift+\";\n",
       "\n",
       "    value += 'k';\n",
       "    value += event.which.toString();\n",
       "\n",
       "    this._key_event_extra(event, name);\n",
       "\n",
       "    this.send_message(name, {key: value,\n",
       "                             guiEvent: simpleKeys(event)});\n",
       "    return false;\n",
       "}\n",
       "\n",
       "mpl.figure.prototype.toolbar_button_onclick = function(name) {\n",
       "    if (name == 'download') {\n",
       "        this.handle_save(this, null);\n",
       "    } else {\n",
       "        this.send_message(\"toolbar_button\", {name: name});\n",
       "    }\n",
       "};\n",
       "\n",
       "mpl.figure.prototype.toolbar_button_onmouseover = function(tooltip) {\n",
       "    this.message.textContent = tooltip;\n",
       "};\n",
       "mpl.toolbar_items = [[\"Home\", \"Reset original view\", \"fa fa-home icon-home\", \"home\"], [\"Back\", \"Back to  previous view\", \"fa fa-arrow-left icon-arrow-left\", \"back\"], [\"Forward\", \"Forward to next view\", \"fa fa-arrow-right icon-arrow-right\", \"forward\"], [\"\", \"\", \"\", \"\"], [\"Pan\", \"Pan axes with left mouse, zoom with right\", \"fa fa-arrows icon-move\", \"pan\"], [\"Zoom\", \"Zoom to rectangle\", \"fa fa-square-o icon-check-empty\", \"zoom\"], [\"\", \"\", \"\", \"\"], [\"Download\", \"Download plot\", \"fa fa-floppy-o icon-save\", \"download\"]];\n",
       "\n",
       "mpl.extensions = [\"eps\", \"jpeg\", \"pdf\", \"png\", \"ps\", \"raw\", \"svg\", \"tif\"];\n",
       "\n",
       "mpl.default_extension = \"png\";var comm_websocket_adapter = function(comm) {\n",
       "    // Create a \"websocket\"-like object which calls the given IPython comm\n",
       "    // object with the appropriate methods. Currently this is a non binary\n",
       "    // socket, so there is still some room for performance tuning.\n",
       "    var ws = {};\n",
       "\n",
       "    ws.close = function() {\n",
       "        comm.close()\n",
       "    };\n",
       "    ws.send = function(m) {\n",
       "        //console.log('sending', m);\n",
       "        comm.send(m);\n",
       "    };\n",
       "    // Register the callback with on_msg.\n",
       "    comm.on_msg(function(msg) {\n",
       "        //console.log('receiving', msg['content']['data'], msg);\n",
       "        // Pass the mpl event to the overridden (by mpl) onmessage function.\n",
       "        ws.onmessage(msg['content']['data'])\n",
       "    });\n",
       "    return ws;\n",
       "}\n",
       "\n",
       "mpl.mpl_figure_comm = function(comm, msg) {\n",
       "    // This is the function which gets called when the mpl process\n",
       "    // starts-up an IPython Comm through the \"matplotlib\" channel.\n",
       "\n",
       "    var id = msg.content.data.id;\n",
       "    // Get hold of the div created by the display call when the Comm\n",
       "    // socket was opened in Python.\n",
       "    var element = $(\"#\" + id);\n",
       "    var ws_proxy = comm_websocket_adapter(comm)\n",
       "\n",
       "    function ondownload(figure, format) {\n",
       "        window.open(figure.imageObj.src);\n",
       "    }\n",
       "\n",
       "    var fig = new mpl.figure(id, ws_proxy,\n",
       "                           ondownload,\n",
       "                           element.get(0));\n",
       "\n",
       "    // Call onopen now - mpl needs it, as it is assuming we've passed it a real\n",
       "    // web socket which is closed, not our websocket->open comm proxy.\n",
       "    ws_proxy.onopen();\n",
       "\n",
       "    fig.parent_element = element.get(0);\n",
       "    fig.cell_info = mpl.find_output_cell(\"<div id='\" + id + \"'></div>\");\n",
       "    if (!fig.cell_info) {\n",
       "        console.error(\"Failed to find cell for figure\", id, fig);\n",
       "        return;\n",
       "    }\n",
       "\n",
       "    var output_index = fig.cell_info[2]\n",
       "    var cell = fig.cell_info[0];\n",
       "\n",
       "};\n",
       "\n",
       "mpl.figure.prototype.handle_close = function(fig, msg) {\n",
       "    var width = fig.canvas.width/mpl.ratio\n",
       "    fig.root.unbind('remove')\n",
       "\n",
       "    // Update the output cell to use the data from the current canvas.\n",
       "    fig.push_to_output();\n",
       "    var dataURL = fig.canvas.toDataURL();\n",
       "    // Re-enable the keyboard manager in IPython - without this line, in FF,\n",
       "    // the notebook keyboard shortcuts fail.\n",
       "    IPython.keyboard_manager.enable()\n",
       "    $(fig.parent_element).html('<img src=\"' + dataURL + '\" width=\"' + width + '\">');\n",
       "    fig.close_ws(fig, msg);\n",
       "}\n",
       "\n",
       "mpl.figure.prototype.close_ws = function(fig, msg){\n",
       "    fig.send_message('closing', msg);\n",
       "    // fig.ws.close()\n",
       "}\n",
       "\n",
       "mpl.figure.prototype.push_to_output = function(remove_interactive) {\n",
       "    // Turn the data on the canvas into data in the output cell.\n",
       "    var width = this.canvas.width/mpl.ratio\n",
       "    var dataURL = this.canvas.toDataURL();\n",
       "    this.cell_info[1]['text/html'] = '<img src=\"' + dataURL + '\" width=\"' + width + '\">';\n",
       "}\n",
       "\n",
       "mpl.figure.prototype.updated_canvas_event = function() {\n",
       "    // Tell IPython that the notebook contents must change.\n",
       "    IPython.notebook.set_dirty(true);\n",
       "    this.send_message(\"ack\", {});\n",
       "    var fig = this;\n",
       "    // Wait a second, then push the new image to the DOM so\n",
       "    // that it is saved nicely (might be nice to debounce this).\n",
       "    setTimeout(function () { fig.push_to_output() }, 1000);\n",
       "}\n",
       "\n",
       "mpl.figure.prototype._init_toolbar = function() {\n",
       "    var fig = this;\n",
       "\n",
       "    var nav_element = $('<div/>')\n",
       "    nav_element.attr('style', 'width: 100%');\n",
       "    this.root.append(nav_element);\n",
       "\n",
       "    // Define a callback function for later on.\n",
       "    function toolbar_event(event) {\n",
       "        return fig.toolbar_button_onclick(event['data']);\n",
       "    }\n",
       "    function toolbar_mouse_event(event) {\n",
       "        return fig.toolbar_button_onmouseover(event['data']);\n",
       "    }\n",
       "\n",
       "    for(var toolbar_ind in mpl.toolbar_items){\n",
       "        var name = mpl.toolbar_items[toolbar_ind][0];\n",
       "        var tooltip = mpl.toolbar_items[toolbar_ind][1];\n",
       "        var image = mpl.toolbar_items[toolbar_ind][2];\n",
       "        var method_name = mpl.toolbar_items[toolbar_ind][3];\n",
       "\n",
       "        if (!name) { continue; };\n",
       "\n",
       "        var button = $('<button class=\"btn btn-default\" href=\"#\" title=\"' + name + '\"><i class=\"fa ' + image + ' fa-lg\"></i></button>');\n",
       "        button.click(method_name, toolbar_event);\n",
       "        button.mouseover(tooltip, toolbar_mouse_event);\n",
       "        nav_element.append(button);\n",
       "    }\n",
       "\n",
       "    // Add the status bar.\n",
       "    var status_bar = $('<span class=\"mpl-message\" style=\"text-align:right; float: right;\"/>');\n",
       "    nav_element.append(status_bar);\n",
       "    this.message = status_bar[0];\n",
       "\n",
       "    // Add the close button to the window.\n",
       "    var buttongrp = $('<div class=\"btn-group inline pull-right\"></div>');\n",
       "    var button = $('<button class=\"btn btn-mini btn-primary\" href=\"#\" title=\"Stop Interaction\"><i class=\"fa fa-power-off icon-remove icon-large\"></i></button>');\n",
       "    button.click(function (evt) { fig.handle_close(fig, {}); } );\n",
       "    button.mouseover('Stop Interaction', toolbar_mouse_event);\n",
       "    buttongrp.append(button);\n",
       "    var titlebar = this.root.find($('.ui-dialog-titlebar'));\n",
       "    titlebar.prepend(buttongrp);\n",
       "}\n",
       "\n",
       "mpl.figure.prototype._root_extra_style = function(el){\n",
       "    var fig = this\n",
       "    el.on(\"remove\", function(){\n",
       "\tfig.close_ws(fig, {});\n",
       "    });\n",
       "}\n",
       "\n",
       "mpl.figure.prototype._canvas_extra_style = function(el){\n",
       "    // this is important to make the div 'focusable\n",
       "    el.attr('tabindex', 0)\n",
       "    // reach out to IPython and tell the keyboard manager to turn it's self\n",
       "    // off when our div gets focus\n",
       "\n",
       "    // location in version 3\n",
       "    if (IPython.notebook.keyboard_manager) {\n",
       "        IPython.notebook.keyboard_manager.register_events(el);\n",
       "    }\n",
       "    else {\n",
       "        // location in version 2\n",
       "        IPython.keyboard_manager.register_events(el);\n",
       "    }\n",
       "\n",
       "}\n",
       "\n",
       "mpl.figure.prototype._key_event_extra = function(event, name) {\n",
       "    var manager = IPython.notebook.keyboard_manager;\n",
       "    if (!manager)\n",
       "        manager = IPython.keyboard_manager;\n",
       "\n",
       "    // Check for shift+enter\n",
       "    if (event.shiftKey && event.which == 13) {\n",
       "        this.canvas_div.blur();\n",
       "        event.shiftKey = false;\n",
       "        // Send a \"J\" for go to next cell\n",
       "        event.which = 74;\n",
       "        event.keyCode = 74;\n",
       "        manager.command_mode();\n",
       "        manager.handle_keydown(event);\n",
       "    }\n",
       "}\n",
       "\n",
       "mpl.figure.prototype.handle_save = function(fig, msg) {\n",
       "    fig.ondownload(fig, null);\n",
       "}\n",
       "\n",
       "\n",
       "mpl.find_output_cell = function(html_output) {\n",
       "    // Return the cell and output element which can be found *uniquely* in the notebook.\n",
       "    // Note - this is a bit hacky, but it is done because the \"notebook_saving.Notebook\"\n",
       "    // IPython event is triggered only after the cells have been serialised, which for\n",
       "    // our purposes (turning an active figure into a static one), is too late.\n",
       "    var cells = IPython.notebook.get_cells();\n",
       "    var ncells = cells.length;\n",
       "    for (var i=0; i<ncells; i++) {\n",
       "        var cell = cells[i];\n",
       "        if (cell.cell_type === 'code'){\n",
       "            for (var j=0; j<cell.output_area.outputs.length; j++) {\n",
       "                var data = cell.output_area.outputs[j];\n",
       "                if (data.data) {\n",
       "                    // IPython >= 3 moved mimebundle to data attribute of output\n",
       "                    data = data.data;\n",
       "                }\n",
       "                if (data['text/html'] == html_output) {\n",
       "                    return [cell, data, j];\n",
       "                }\n",
       "            }\n",
       "        }\n",
       "    }\n",
       "}\n",
       "\n",
       "// Register the function which deals with the matplotlib target/channel.\n",
       "// The kernel may be null if the page has been refreshed.\n",
       "if (IPython.notebook.kernel != null) {\n",
       "    IPython.notebook.kernel.comm_manager.register_target('matplotlib', mpl.mpl_figure_comm);\n",
       "}\n"
      ],
      "text/plain": [
       "<IPython.core.display.Javascript object>"
      ]
     },
     "metadata": {},
     "output_type": "display_data"
    },
    {
     "data": {
      "text/html": [
       "<img src=\"data:image/png;base64,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\" width=\"640\">"
      ],
      "text/plain": [
       "<IPython.core.display.HTML object>"
      ]
     },
     "metadata": {},
     "output_type": "display_data"
    },
    {
     "data": {
      "text/plain": [
       "[<matplotlib.lines.Line2D at 0x8172ad278>]"
      ]
     },
     "execution_count": 147,
     "metadata": {},
     "output_type": "execute_result"
    }
   ],
   "source": [
    "angle = angle.to(u.deg)\n",
    "plt.plot(angle, np.sin(angle))"
   ]
  },
  {
   "cell_type": "markdown",
   "metadata": {},
   "source": [
    "## Creating functions with quantities as units\n",
    "\n",
    "We want to have functions that contain the information of the untis, and with them we can be sure that we will be always have the *right* result."
   ]
  },
  {
   "cell_type": "code",
   "execution_count": 186,
   "metadata": {},
   "outputs": [],
   "source": [
    "#@u.quantity_input(mass=u.kg, speed=u.m/u.s)\n",
    "#def kinetic(mass, speed):\n",
    "#    return (mass*speed**2/2.).to(u.joule)\n",
    "\n",
    "def kinetic(mass: u.kg, speed: u.m/u.s):\n",
    "    return (mass*speed**2/2.).to(u.joule)"
   ]
  },
  {
   "cell_type": "code",
   "execution_count": 187,
   "metadata": {},
   "outputs": [
    {
     "ename": "AttributeError",
     "evalue": "'float' object has no attribute 'to'",
     "output_type": "error",
     "traceback": [
      "\u001b[0;31m---------------------------------------------------------------------------\u001b[0m",
      "\u001b[0;31mAttributeError\u001b[0m                            Traceback (most recent call last)",
      "\u001b[0;32m<ipython-input-187-8f06b7e18b14>\u001b[0m in \u001b[0;36m<module>\u001b[0;34m()\u001b[0m\n\u001b[0;32m----> 1\u001b[0;31m \u001b[0mkinetic\u001b[0m\u001b[0;34m(\u001b[0m\u001b[0;36m10\u001b[0m\u001b[0;34m,\u001b[0m\u001b[0;36m3\u001b[0m\u001b[0;34m)\u001b[0m\u001b[0;34m\u001b[0m\u001b[0m\n\u001b[0m",
      "\u001b[0;32m<ipython-input-186-ea058d5cfc72>\u001b[0m in \u001b[0;36mkinetic\u001b[0;34m(mass, speed)\u001b[0m\n\u001b[1;32m      4\u001b[0m \u001b[0;34m\u001b[0m\u001b[0m\n\u001b[1;32m      5\u001b[0m \u001b[0;32mdef\u001b[0m \u001b[0mkinetic\u001b[0m\u001b[0;34m(\u001b[0m\u001b[0mmass\u001b[0m\u001b[0;34m:\u001b[0m \u001b[0mu\u001b[0m\u001b[0;34m.\u001b[0m\u001b[0mkg\u001b[0m\u001b[0;34m,\u001b[0m \u001b[0mspeed\u001b[0m\u001b[0;34m:\u001b[0m \u001b[0mu\u001b[0m\u001b[0;34m.\u001b[0m\u001b[0mm\u001b[0m\u001b[0;34m/\u001b[0m\u001b[0mu\u001b[0m\u001b[0;34m.\u001b[0m\u001b[0ms\u001b[0m\u001b[0;34m)\u001b[0m\u001b[0;34m:\u001b[0m\u001b[0;34m\u001b[0m\u001b[0m\n\u001b[0;32m----> 6\u001b[0;31m     \u001b[0;32mreturn\u001b[0m \u001b[0;34m(\u001b[0m\u001b[0mmass\u001b[0m\u001b[0;34m*\u001b[0m\u001b[0mspeed\u001b[0m\u001b[0;34m**\u001b[0m\u001b[0;36m2\u001b[0m\u001b[0;34m/\u001b[0m\u001b[0;36m2.\u001b[0m\u001b[0;34m)\u001b[0m\u001b[0;34m.\u001b[0m\u001b[0mto\u001b[0m\u001b[0;34m(\u001b[0m\u001b[0mu\u001b[0m\u001b[0;34m.\u001b[0m\u001b[0mjoule\u001b[0m\u001b[0;34m)\u001b[0m\u001b[0;34m\u001b[0m\u001b[0m\n\u001b[0m",
      "\u001b[0;31mAttributeError\u001b[0m: 'float' object has no attribute 'to'"
     ]
    }
   ],
   "source": [
    "kinetic(10,3)"
   ]
  },
  {
   "cell_type": "code",
   "execution_count": 164,
   "metadata": {},
   "outputs": [
    {
     "name": "stdout",
     "output_type": "stream",
     "text": [
      "1.0 cm / s\n"
     ]
    },
    {
     "data": {
      "text/latex": [
       "$0.0045 \\; \\mathrm{J}$"
      ],
      "text/plain": [
       "<Quantity 0.0045 J>"
      ]
     },
     "execution_count": 164,
     "metadata": {},
     "output_type": "execute_result"
    }
   ],
   "source": [
    "print(1*cms)\n",
    "kinetic(10*u.kg, 3*cms)"
   ]
  },
  {
   "cell_type": "markdown",
   "metadata": {},
   "source": [
    "\n",
    "<section class=\"challenge panel panel-success\">\n",
    "<div class=\"panel-heading\">\n",
    "<h2><span class=\"fa fa-pencil\"></span> Using `quantity_input`</h2>\n",
    "</div>\n",
    "\n",
    "\n",
    "<div class=\"panel-body\">\n",
    "\n",
    "<ol>\n",
    "<li>Create a function that calculates potential energy where $g$ defaults to Earth value, but could be used for different planets. Test it for any of the $g$ values for any other <a href=\"http://www.physicsclassroom.com/class/circles/Lesson-3/The-Value-of-g&quot;\">planets</a>.</li>\n",
    "</ol>\n",
    "\n",
    "</div>\n",
    "\n",
    "</section>\n"
   ]
  },
  {
   "cell_type": "code",
   "execution_count": 238,
   "metadata": {},
   "outputs": [],
   "source": [
    "import astropy.units as u\n",
    "\n",
    "@u.quantity_input()\n",
    "def pot_energy(mass: u.kg, height: u.m, g: u.m/(u.s**2)=9.81*u.m/(u.s**2)):\n",
    "    return (mass*height*g).to(u.joule)\n",
    "\n",
    "@u.quantity_input(mass=u.kg, height=u.m, g=u.m/(u.s**2))\n",
    "def potential_energy(mass, height, g=9.81):\n",
    "    return (mass*height*g).to(u.joule)\n",
    "\n",
    "@u.quantity_input()\n",
    "def p_energy(mass: u.kg, height: u.m, g: u.m/(u.s**2)=9.81*u.m/(u.s**2)) -> u.joule:\n",
    "    return (mass*height*g)"
   ]
  },
  {
   "cell_type": "code",
   "execution_count": 239,
   "metadata": {},
   "outputs": [
    {
     "name": "stdout",
     "output_type": "stream",
     "text": [
      "9.81 J\n",
      "10.0 J\n",
      "10.0 J\n",
      "9.81 J\n"
     ]
    }
   ],
   "source": [
    "#print(pot_energy(1,1,9.81))\n",
    "print(pot_energy(1*u.kg,1*u.m))\n",
    "print(pot_energy(1*u.kg,1*u.m, 10*u.m/(u.s**2)))\n",
    "print(potential_energy(1*u.kg,1*u.m, 10*u.m/(u.s**2)))\n",
    "print(p_energy(1*u.kg,1*u.m))"
   ]
  },
  {
   "cell_type": "code",
   "execution_count": null,
   "metadata": {},
   "outputs": [],
   "source": []
  },
  {
   "cell_type": "markdown",
   "metadata": {},
   "source": [
    "## Create your own units\n",
    "\n",
    "Some times we want to create our own units:"
   ]
  },
  {
   "cell_type": "code",
   "execution_count": null,
   "metadata": {},
   "outputs": [],
   "source": []
  },
  {
   "cell_type": "markdown",
   "metadata": {},
   "source": [
    "\n",
    "<section class=\"challenge panel panel-success\">\n",
    "<div class=\"panel-heading\">\n",
    "<h2><span class=\"fa fa-pencil\"></span> Area with units</h2>\n",
    "</div>\n",
    "\n",
    "\n",
    "<div class=\"panel-body\">\n",
    "\n",
    "<ol>\n",
    "<li>Convert the area calculated before <code>rectangle_area</code> in <a href=\"https://en.wikipedia.org/wiki/Hectare\">hectares</a> (1 hectare = 100 ares; 1 are = 100 $m^2$).</li>\n",
    "</ol>\n",
    "\n",
    "</div>\n",
    "\n",
    "</section>\n"
   ]
  },
  {
   "cell_type": "code",
   "execution_count": null,
   "metadata": {},
   "outputs": [],
   "source": []
  }
 ],
 "metadata": {
  "kernelspec": {
   "display_name": "Python 3",
   "language": "python",
   "name": "python3"
  },
  "language_info": {
   "codemirror_mode": {
    "name": "ipython",
    "version": 3
   },
   "file_extension": ".py",
   "mimetype": "text/x-python",
   "name": "python",
   "nbconvert_exporter": "python",
   "pygments_lexer": "ipython3",
   "version": "3.6.6"
  }
 },
 "nbformat": 4,
 "nbformat_minor": 1
}
